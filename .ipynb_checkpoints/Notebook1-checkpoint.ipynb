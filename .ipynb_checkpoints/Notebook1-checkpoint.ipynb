{
 "cells": [
  {
   "cell_type": "markdown",
   "id": "4329069f-cd38-4f40-a8ae-c2e02f04cae5",
   "metadata": {},
   "source": [
    "# Práctica 3 -- Algoritmos genéticos"
   ]
  },
  {
   "cell_type": "markdown",
   "id": "a75aa1b8-f081-42e8-b919-d96ffddaa9f3",
   "metadata": {},
   "source": [
    "## Notebook Algoritmos Genéticos II"
   ]
  },
  {
   "cell_type": "markdown",
   "id": "f34d156d-763a-4d89-ac1e-6aae64e785f7",
   "metadata": {},
   "source": [
    "### Módulo Creator\n",
    "\n",
    "Crea una clase que extiende de otras, la cual puede tener una serie de atributos."
   ]
  },
  {
   "cell_type": "code",
   "execution_count": 1,
   "id": "c19735f5-572e-4d7f-af54-a7def25e7e8d",
   "metadata": {},
   "outputs": [],
   "source": [
    "from deap import creator"
   ]
  },
  {
   "cell_type": "code",
   "execution_count": null,
   "id": "253b0f73-9564-4a13-b001-29738b7ea441",
   "metadata": {},
   "outputs": [],
   "source": []
  },
  {
   "cell_type": "markdown",
   "id": "6bd52133-990c-4bca-960c-e8c43889a643",
   "metadata": {},
   "source": [
    "### Módulo Base"
   ]
  },
  {
   "cell_type": "code",
   "execution_count": 3,
   "id": "46efdc79-bc65-4ad2-b454-3b3d4cf0f12e",
   "metadata": {},
   "outputs": [],
   "source": [
    "from deap import base"
   ]
  },
  {
   "cell_type": "markdown",
   "id": "8ba2673d-ed37-4cff-86ed-8349e70702f7",
   "metadata": {},
   "source": [
    "#### Clase Fitness\n",
    "Es la función de ajuste, la cual nos permite seleccionar si queremos llevar a cabo un problema de maximización o minimización."
   ]
  },
  {
   "cell_type": "markdown",
   "id": "56b65e7a-b0b3-405d-a80b-13d92df1b7ad",
   "metadata": {},
   "source": [
    "#### Clase Toolbox\n",
    "Nos permite la creacción y utilización de diferentes operaciones predefinidas y sin definir."
   ]
  },
  {
   "cell_type": "markdown",
   "id": "481f16be-9740-49a3-87a8-9a414f4b83a6",
   "metadata": {},
   "source": [
    "##### Método register\n",
    "Nos permite modificar operaciones que ya han sido definidas previamente."
   ]
  },
  {
   "cell_type": "markdown",
   "id": "137aad98-7493-4c95-a72b-3a692d33388e",
   "metadata": {},
   "source": [
    "### Módulo tools\n",
    "\n",
    "Contiene un montón de operaciones genéticas tales como selección, cruce o mutación; así como algunas funcionalidades de inicialización de las poblaciones."
   ]
  },
  {
   "cell_type": "code",
   "execution_count": 11,
   "id": "52fb6508-e841-458a-910d-3377b64e40ec",
   "metadata": {},
   "outputs": [],
   "source": [
    "from deap import tools"
   ]
  },
  {
   "cell_type": "markdown",
   "id": "fd062aad-a8fc-48b2-a0ad-ec8de311430d",
   "metadata": {},
   "source": [
    "#### Función initRepeat\n",
    "Almacena en un determinado tipo de estructura el resultado de aplicar una función un determinado número de veces.\n",
    "\n",
    "Sirve para crear individuos compuestos por una cadena binaria."
   ]
  },
  {
   "cell_type": "code",
   "execution_count": 10,
   "id": "149fa95a-5cb5-41bd-97dd-03fe2e5352af",
   "metadata": {},
   "outputs": [],
   "source": [
    "import random"
   ]
  },
  {
   "cell_type": "markdown",
   "id": "bc2312aa-1a01-4f56-84fe-7826a5a42545",
   "metadata": {},
   "source": [
    "#### Función initIterate\n",
    "Almacena en un determinado tipo de estructura el resultado de aplicar una función un determinado número de veces. \n",
    "\n",
    "Sirve para crear individuos compuestos por números enteros."
   ]
  },
  {
   "cell_type": "code",
   "execution_count": 24,
   "id": "990c81ac-cd76-40e8-85ee-298ae72ceda2",
   "metadata": {},
   "outputs": [],
   "source": [
    "import numpy as np"
   ]
  },
  {
   "cell_type": "markdown",
   "id": "abe2277d-6a90-430d-a9b8-68bcf44ad759",
   "metadata": {},
   "source": [
    "#### Función selBest  -  Selección de los k mejores\n",
    "\n",
    "Selecciona los k - individuos de la población con mayor valor de ajuste."
   ]
  },
  {
   "cell_type": "markdown",
   "id": "8d8cf75f-6399-4818-b8ce-089d185863ec",
   "metadata": {},
   "source": [
    "#### Función selTournament - Selección por torneo\n",
    "Selecciona los k-individuos que indiquemos y que se eligen por ser los ganadores de un torneo, el cual depende del valor de ajuste de los participantes.\n"
   ]
  },
  {
   "cell_type": "markdown",
   "id": "509bc70c-9ca7-4eb5-8119-4f90ce8da15b",
   "metadata": {},
   "source": [
    "#### Función selRoulette - Selección por ruleta\n",
    "Selecciona un número predeterminado de k - individuos por ruleta. Sin embargo, aquellos individuos con mayor valor de ajuste tienen mayor probabilidad de ser seleccionados. La ruleta se repite hasta obtener el número de individuos deseado."
   ]
  },
  {
   "cell_type": "markdown",
   "id": "179df762-720b-413c-b488-0096febd4886",
   "metadata": {},
   "source": [
    "#### Función selStochasticUniversalSampling - Selección por Muestreo Universal Estocástico\n",
    "Es una variación del muestreo por ruleta. \n",
    "\n",
    "Selecciona k - elementos pero en una sola vuelta, ya que la ruleta tiene varios puntos de selección de los individuos de la población."
   ]
  },
  {
   "cell_type": "markdown",
   "id": "85489d93-707d-4f3c-a75c-039b2303c5e1",
   "metadata": {},
   "source": [
    "#### Función cxOnePoint - Cruce de un Punto\n",
    "Realizan una operación de cruce entre individuos, seleccionando un punto de cruce aleatorio e intercambiando la información genética del cromosoma que se encuentra a la derecha de dicho punto de cruce entre los individuos."
   ]
  },
  {
   "cell_type": "markdown",
   "id": "43cfb65d-fb63-4c72-bcd4-3b8f2e2d5c87",
   "metadata": {},
   "source": [
    "#### Función cxTwoPoint - Cruce de dos Puntos\n",
    "Realiza una operación de cruce entre dos individuos, seleccionando dos puntos de cruce aleatorios en los cromosomas e intercambiando entre ambos la información que se encuentra localizada entre los mismos."
   ]
  },
  {
   "cell_type": "markdown",
   "id": "151d0a09-b734-433c-9807-67766f581b4f",
   "metadata": {},
   "source": [
    "#### Función cxUniform - Cruce Uniforme"
   ]
  },
  {
   "cell_type": "code",
   "execution_count": null,
   "id": "9d651a9a-c7ea-4627-8446-6c5d3885298e",
   "metadata": {},
   "outputs": [],
   "source": []
  }
 ],
 "metadata": {
  "kernelspec": {
   "display_name": "Python 3 (ipykernel)",
   "language": "python",
   "name": "python3"
  },
  "language_info": {
   "codemirror_mode": {
    "name": "ipython",
    "version": 3
   },
   "file_extension": ".py",
   "mimetype": "text/x-python",
   "name": "python",
   "nbconvert_exporter": "python",
   "pygments_lexer": "ipython3",
   "version": "3.11.11"
  }
 },
 "nbformat": 4,
 "nbformat_minor": 5
}
