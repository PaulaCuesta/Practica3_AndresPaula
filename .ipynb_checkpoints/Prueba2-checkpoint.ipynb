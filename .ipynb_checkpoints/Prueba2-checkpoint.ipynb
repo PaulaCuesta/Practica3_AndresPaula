{
 "cells": [
  {
   "cell_type": "markdown",
   "id": "4a9964b9-a6a6-417d-88bd-6cc81b2047a2",
   "metadata": {},
   "source": [
    "### Importaciones de paquetes necesarios"
   ]
  },
  {
   "cell_type": "code",
   "execution_count": 1,
   "id": "90281113-4c34-4385-b989-b1f77774d07e",
   "metadata": {},
   "outputs": [],
   "source": [
    "from turnosenfermeria import TurnosEnfermeria\n",
    "import Alg_genetico_simple as alg_gen"
   ]
  },
  {
   "cell_type": "markdown",
   "id": "c566eabd-04d2-4fc1-a42d-c1f5c7d23025",
   "metadata": {},
   "source": [
    "# Algoritmo Genético Simple"
   ]
  },
  {
   "cell_type": "code",
   "execution_count": 4,
   "id": "914f8366-bbb4-40f2-be76-c3f0f3a468cf",
   "metadata": {},
   "outputs": [],
   "source": [
    "tamano_individuo = 21\n",
    "tamano_calendario = 13\n",
    "tamano_poblacion = 50\n",
    "max_generaciones = 100\n",
    "p_cruce = 0.9\n",
    "p_mutacion = 0.1\n",
    "algoritmo = \"eaSimple\"\n"
   ]
  },
  {
   "cell_type": "code",
   "execution_count": 6,
   "id": "ddfed97b-60fb-4b5b-ba70-bb7742b92707",
   "metadata": {
    "scrolled": true
   },
   "outputs": [
    {
     "ename": "ValueError",
     "evalue": "Tipo de selección no soportada: selTournament",
     "output_type": "error",
     "traceback": [
      "\u001b[1;31m---------------------------------------------------------------------------\u001b[0m",
      "\u001b[1;31mValueError\u001b[0m                                Traceback (most recent call last)",
      "Cell \u001b[1;32mIn[6], line 3\u001b[0m\n\u001b[0;32m      1\u001b[0m \u001b[38;5;66;03m# Comprobación del funcionamiento del algoritmo\u001b[39;00m\n\u001b[1;32m----> 3\u001b[0m poblacion_final, logbook \u001b[38;5;241m=\u001b[39m \u001b[43malg_gen\u001b[49m\u001b[38;5;241;43m.\u001b[39;49m\u001b[43mCreaccionCalendarioTurnos\u001b[49m\u001b[43m \u001b[49m\u001b[43m(\u001b[49m\u001b[38;5;124;43m\"\u001b[39;49m\u001b[38;5;124;43m./data/datos_enfermeria.txt\u001b[39;49m\u001b[38;5;124;43m\"\u001b[39;49m\u001b[43m,\u001b[49m\u001b[43m \u001b[49m\u001b[43mtamano_individuo\u001b[49m\u001b[43m,\u001b[49m\u001b[43m \u001b[49m\u001b[43mtamano_calendario\u001b[49m\u001b[43m,\u001b[49m\u001b[43m \u001b[49m\u001b[43mtamano_poblacion\u001b[49m\u001b[43m,\u001b[49m\u001b[43m \u001b[49m\u001b[38;5;124;43m\"\u001b[39;49m\u001b[38;5;124;43mselTournament\u001b[39;49m\u001b[38;5;124;43m\"\u001b[39;49m\u001b[43m,\u001b[49m\u001b[43m \u001b[49m\u001b[43mp_cruce\u001b[49m\u001b[43m,\u001b[49m\u001b[43m \u001b[49m\u001b[38;5;124;43m\"\u001b[39;49m\u001b[38;5;124;43mcxOnePoint\u001b[39;49m\u001b[38;5;124;43m\"\u001b[39;49m\u001b[43m,\u001b[49m\u001b[43m \u001b[49m\u001b[43mp_mutacion\u001b[49m\u001b[43m,\u001b[49m\u001b[43m \u001b[49m\u001b[38;5;124;43m\"\u001b[39;49m\u001b[38;5;124;43mmutFlipBit\u001b[39;49m\u001b[38;5;124;43m\"\u001b[39;49m\u001b[43m,\u001b[49m\u001b[43m \u001b[49m\u001b[43mmax_generaciones\u001b[49m\u001b[43m)\u001b[49m\n",
      "File \u001b[1;32m~\\Desktop\\UBU\\entornos_git\\Practica3_AndresPaula\\Alg_genetico_simple.py:89\u001b[0m, in \u001b[0;36mCreaccionCalendarioTurnos\u001b[1;34m(ruta_archivo, tamano_individuo, tamano_calendario, tamano_poblacion, seleccion, p_cruce, cruce, p_mutacion, mutacion, max_generaciones, verbose)\u001b[0m\n\u001b[0;32m     87\u001b[0m     toolbox\u001b[38;5;241m.\u001b[39mregister(\u001b[38;5;124m\"\u001b[39m\u001b[38;5;124mselect\u001b[39m\u001b[38;5;124m\"\u001b[39m, tools\u001b[38;5;241m.\u001b[39mselStochasticUniversalSampling)\n\u001b[0;32m     88\u001b[0m \u001b[38;5;28;01melse\u001b[39;00m:\n\u001b[1;32m---> 89\u001b[0m     \u001b[38;5;28;01mraise\u001b[39;00m \u001b[38;5;167;01mValueError\u001b[39;00m(\u001b[38;5;124mf\u001b[39m\u001b[38;5;124m\"\u001b[39m\u001b[38;5;124mTipo de selección no soportada: \u001b[39m\u001b[38;5;132;01m{\u001b[39;00mseleccion\u001b[38;5;132;01m}\u001b[39;00m\u001b[38;5;124m\"\u001b[39m)\n\u001b[0;32m     92\u001b[0m \u001b[38;5;28;01mif\u001b[39;00m cruce \u001b[38;5;241m==\u001b[39m \u001b[38;5;124m\"\u001b[39m\u001b[38;5;124mcxOnePoint\u001b[39m\u001b[38;5;124m\"\u001b[39m:\n\u001b[0;32m     93\u001b[0m     toolbox\u001b[38;5;241m.\u001b[39mregister(\u001b[38;5;124m\"\u001b[39m\u001b[38;5;124mmate\u001b[39m\u001b[38;5;124m\"\u001b[39m, tools\u001b[38;5;241m.\u001b[39mcxOnePoint)\n",
      "\u001b[1;31mValueError\u001b[0m: Tipo de selección no soportada: selTournament"
     ]
    }
   ],
   "source": [
    "# Comprobación del funcionamiento del algoritmo\n",
    "\n",
    "poblacion_final, logbook = alg_gen.CreaccionCalendarioTurnos (\"./data/datos_enfermeria.txt\", tamano_individuo, tamano_calendario, tamano_poblacion, \"selTournament\", p_cruce, \"cxOnePoint\", p_mutacion, \"mutFlipBit\", max_generaciones)"
   ]
  },
  {
   "cell_type": "markdown",
   "id": "4ddf8370-e075-468b-9e9c-4d3b6381487d",
   "metadata": {},
   "source": [
    "## Mostramos el calendario por pantalla"
   ]
  },
  {
   "cell_type": "code",
   "execution_count": null,
   "id": "9aa6b590-8328-40f2-8cbd-7a8bb19b2f85",
   "metadata": {},
   "outputs": [],
   "source": []
  }
 ],
 "metadata": {
  "kernelspec": {
   "display_name": "Python 3 (ipykernel)",
   "language": "python",
   "name": "python3"
  },
  "language_info": {
   "codemirror_mode": {
    "name": "ipython",
    "version": 3
   },
   "file_extension": ".py",
   "mimetype": "text/x-python",
   "name": "python",
   "nbconvert_exporter": "python",
   "pygments_lexer": "ipython3",
   "version": "3.11.11"
  }
 },
 "nbformat": 4,
 "nbformat_minor": 5
}
