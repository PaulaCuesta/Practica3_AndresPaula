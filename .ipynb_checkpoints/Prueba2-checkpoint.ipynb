{
 "cells": [
  {
   "cell_type": "markdown",
   "id": "4a9964b9-a6a6-417d-88bd-6cc81b2047a2",
   "metadata": {},
   "source": [
    "### Importaciones de paquetes necesarios"
   ]
  },
  {
   "cell_type": "code",
   "execution_count": 321,
   "id": "90281113-4c34-4385-b989-b1f77774d07e",
   "metadata": {},
   "outputs": [],
   "source": [
    "from turnosenfermeria import TurnosEnfermeria\n",
    "import Alg_genetico_simple as alg_gen"
   ]
  },
  {
   "cell_type": "markdown",
   "id": "c566eabd-04d2-4fc1-a42d-c1f5c7d23025",
   "metadata": {},
   "source": [
    "# Algoritmo Genético Simple"
   ]
  },
  {
   "cell_type": "code",
   "execution_count": 322,
   "id": "914f8366-bbb4-40f2-be76-c3f0f3a468cf",
   "metadata": {},
   "outputs": [],
   "source": [
    "tamano_individuo = 21\n",
    "tamano_calendario = len (preferencias)\n",
    "tamano_poblacion = 50\n",
    "max_generaciones = 100\n",
    "p_cruce = 0.9\n",
    "p_mutacion = 0.1\n",
    "algoritmo = \"eaSimple\"\n",
    "\n",
    "toolbox = base.Toolbox()"
   ]
  },
  {
   "cell_type": "code",
   "execution_count": 323,
   "id": "ddfed97b-60fb-4b5b-ba70-bb7742b92707",
   "metadata": {
    "scrolled": true
   },
   "outputs": [
    {
     "name": "stderr",
     "output_type": "stream",
     "text": [
      "C:\\Users\\paula\\anaconda3\\envs\\practica_3_env\\Lib\\site-packages\\deap\\creator.py:185: RuntimeWarning: A class named 'ClaseAjusteMin' has already been created and it will be overwritten. Consider deleting previous creation of that class or rename it.\n",
      "  warnings.warn(\"A class named '{0}' has already been created and it \"\n",
      "C:\\Users\\paula\\anaconda3\\envs\\practica_3_env\\Lib\\site-packages\\deap\\creator.py:185: RuntimeWarning: A class named 'ClaseIndividuo' has already been created and it will be overwritten. Consider deleting previous creation of that class or rename it.\n",
      "  warnings.warn(\"A class named '{0}' has already been created and it \"\n"
     ]
    },
    {
     "ename": "TypeError",
     "evalue": "'str' object cannot be interpreted as an integer",
     "output_type": "error",
     "traceback": [
      "\u001b[1;31m---------------------------------------------------------------------------\u001b[0m",
      "\u001b[1;31mTypeError\u001b[0m                                 Traceback (most recent call last)",
      "Cell \u001b[1;32mIn[323], line 3\u001b[0m\n\u001b[0;32m      1\u001b[0m \u001b[38;5;66;03m# Comprobación del funcionamiento del algoritmo\u001b[39;00m\n\u001b[1;32m----> 3\u001b[0m poblacion_final, logbook \u001b[38;5;241m=\u001b[39m \u001b[43malg_gen\u001b[49m\u001b[38;5;241;43m.\u001b[39;49m\u001b[43mCreaccionCalendarioTurnos\u001b[49m\u001b[43m \u001b[49m\u001b[43m(\u001b[49m\u001b[38;5;124;43m\"\u001b[39;49m\u001b[38;5;124;43m./data/datos_enfermeria.txt\u001b[39;49m\u001b[38;5;124;43m\"\u001b[39;49m\u001b[43m,\u001b[49m\u001b[43m \u001b[49m\u001b[43mtamano_individuo\u001b[49m\u001b[43m,\u001b[49m\u001b[43m \u001b[49m\u001b[43mtamano_calendario\u001b[49m\u001b[43m,\u001b[49m\u001b[43m \u001b[49m\u001b[43mtamano_poblacion\u001b[49m\u001b[43m,\u001b[49m\u001b[43m \u001b[49m\u001b[38;5;124;43m\"\u001b[39;49m\u001b[38;5;124;43mselTournament\u001b[39;49m\u001b[38;5;124;43m\"\u001b[39;49m\u001b[43m,\u001b[49m\u001b[43m \u001b[49m\u001b[43mp_cruce\u001b[49m\u001b[43m,\u001b[49m\u001b[43m \u001b[49m\u001b[38;5;124;43m\"\u001b[39;49m\u001b[38;5;124;43mcxOnePoint\u001b[39;49m\u001b[38;5;124;43m\"\u001b[39;49m\u001b[43m,\u001b[49m\u001b[43m \u001b[49m\u001b[43mp_mutacion\u001b[49m\u001b[43m,\u001b[49m\u001b[43m \u001b[49m\u001b[38;5;124;43m\"\u001b[39;49m\u001b[38;5;124;43mmutFlipBit\u001b[39;49m\u001b[38;5;124;43m\"\u001b[39;49m\u001b[43m,\u001b[49m\u001b[43m \u001b[49m\u001b[43mturnos\u001b[49m\u001b[43m,\u001b[49m\u001b[43m \u001b[49m\u001b[43mmax_generaciones\u001b[49m\u001b[43m)\u001b[49m\n",
      "File \u001b[1;32m~\\Desktop\\UBU\\entornos_git\\Practica3_AndresPaula\\Alg_genetico_simple.py:71\u001b[0m, in \u001b[0;36mCreaccionCalendarioTurnos\u001b[1;34m(tamano_individuo, tamano_calendario, tamano_poblacion, seleccion, p_cruce, cruce, p_mutacion, mutacion, algoritmo, max_generaciones, verbose)\u001b[0m\n\u001b[0;32m     68\u001b[0m creator\u001b[38;5;241m.\u001b[39mcreate(\u001b[38;5;124m\"\u001b[39m\u001b[38;5;124mClaseIndividuo\u001b[39m\u001b[38;5;124m\"\u001b[39m, \u001b[38;5;28mlist\u001b[39m, fitness\u001b[38;5;241m=\u001b[39mcreator\u001b[38;5;241m.\u001b[39mClaseAjusteMin)\n\u001b[0;32m     70\u001b[0m toolbox\u001b[38;5;241m.\u001b[39mregister(\u001b[38;5;124m\"\u001b[39m\u001b[38;5;124mceroOrUno\u001b[39m\u001b[38;5;124m\"\u001b[39m, random\u001b[38;5;241m.\u001b[39mrandint, \u001b[38;5;241m0\u001b[39m, \u001b[38;5;241m1\u001b[39m)\n\u001b[1;32m---> 71\u001b[0m toolbox\u001b[38;5;241m.\u001b[39mregister(\u001b[38;5;124m\"\u001b[39m\u001b[38;5;124mindividual\u001b[39m\u001b[38;5;124m\"\u001b[39m, tools\u001b[38;5;241m.\u001b[39minitRepeat, creator\u001b[38;5;241m.\u001b[39mClaseIndividuo, toolbox\u001b[38;5;241m.\u001b[39mceroOrUno, tamano_individuo\u001b[38;5;241m*\u001b[39mtamano_calendario)\n\u001b[0;32m     72\u001b[0m toolbox\u001b[38;5;241m.\u001b[39mregister(\u001b[38;5;124m\"\u001b[39m\u001b[38;5;124mpopulation\u001b[39m\u001b[38;5;124m\"\u001b[39m, tools\u001b[38;5;241m.\u001b[39minitRepeat, \u001b[38;5;28mlist\u001b[39m, toolbox\u001b[38;5;241m.\u001b[39mindividual, tamano_poblacion)\n\u001b[0;32m     73\u001b[0m poblacion \u001b[38;5;241m=\u001b[39m toolbox\u001b[38;5;241m.\u001b[39mpopulation()\n",
      "File \u001b[1;32m~\\anaconda3\\envs\\practica_3_env\\Lib\\site-packages\\deap\\tools\\init.py:23\u001b[0m, in \u001b[0;36minitRepeat\u001b[1;34m(container, func, n)\u001b[0m\n\u001b[0;32m      1\u001b[0m \u001b[38;5;28;01mdef\u001b[39;00m\u001b[38;5;250m \u001b[39m\u001b[38;5;21minitRepeat\u001b[39m(container, func, n):\n\u001b[0;32m      2\u001b[0m \u001b[38;5;250m    \u001b[39m\u001b[38;5;124;03m\"\"\"Call the function *func* *n* times and return the results in a\u001b[39;00m\n\u001b[0;32m      3\u001b[0m \u001b[38;5;124;03m    container type `container`\u001b[39;00m\n\u001b[0;32m      4\u001b[0m \n\u001b[1;32m   (...)\u001b[0m\n\u001b[0;32m     21\u001b[0m \u001b[38;5;124;03m    See the :ref:`list-of-floats` and :ref:`population` tutorials for more examples.\u001b[39;00m\n\u001b[0;32m     22\u001b[0m \u001b[38;5;124;03m    \"\"\"\u001b[39;00m\n\u001b[1;32m---> 23\u001b[0m     \u001b[38;5;28;01mreturn\u001b[39;00m \u001b[43mcontainer\u001b[49m\u001b[43m(\u001b[49m\u001b[43mfunc\u001b[49m\u001b[43m(\u001b[49m\u001b[43m)\u001b[49m\u001b[43m \u001b[49m\u001b[38;5;28;43;01mfor\u001b[39;49;00m\u001b[43m \u001b[49m\u001b[43m_\u001b[49m\u001b[43m \u001b[49m\u001b[38;5;129;43;01min\u001b[39;49;00m\u001b[43m \u001b[49m\u001b[38;5;28;43mrange\u001b[39;49m\u001b[43m(\u001b[49m\u001b[43mn\u001b[49m\u001b[43m)\u001b[49m\u001b[43m)\u001b[49m\n",
      "File \u001b[1;32m~\\anaconda3\\envs\\practica_3_env\\Lib\\site-packages\\deap\\tools\\init.py:23\u001b[0m, in \u001b[0;36m<genexpr>\u001b[1;34m(.0)\u001b[0m\n\u001b[0;32m      1\u001b[0m \u001b[38;5;28;01mdef\u001b[39;00m\u001b[38;5;250m \u001b[39m\u001b[38;5;21minitRepeat\u001b[39m(container, func, n):\n\u001b[0;32m      2\u001b[0m \u001b[38;5;250m    \u001b[39m\u001b[38;5;124;03m\"\"\"Call the function *func* *n* times and return the results in a\u001b[39;00m\n\u001b[0;32m      3\u001b[0m \u001b[38;5;124;03m    container type `container`\u001b[39;00m\n\u001b[0;32m      4\u001b[0m \n\u001b[1;32m   (...)\u001b[0m\n\u001b[0;32m     21\u001b[0m \u001b[38;5;124;03m    See the :ref:`list-of-floats` and :ref:`population` tutorials for more examples.\u001b[39;00m\n\u001b[0;32m     22\u001b[0m \u001b[38;5;124;03m    \"\"\"\u001b[39;00m\n\u001b[1;32m---> 23\u001b[0m     \u001b[38;5;28;01mreturn\u001b[39;00m container(\u001b[43mfunc\u001b[49m\u001b[43m(\u001b[49m\u001b[43m)\u001b[49m \u001b[38;5;28;01mfor\u001b[39;00m _ \u001b[38;5;129;01min\u001b[39;00m \u001b[38;5;28mrange\u001b[39m(n))\n",
      "File \u001b[1;32m~\\anaconda3\\envs\\practica_3_env\\Lib\\site-packages\\deap\\tools\\init.py:23\u001b[0m, in \u001b[0;36minitRepeat\u001b[1;34m(container, func, n)\u001b[0m\n\u001b[0;32m      1\u001b[0m \u001b[38;5;28;01mdef\u001b[39;00m\u001b[38;5;250m \u001b[39m\u001b[38;5;21minitRepeat\u001b[39m(container, func, n):\n\u001b[0;32m      2\u001b[0m \u001b[38;5;250m    \u001b[39m\u001b[38;5;124;03m\"\"\"Call the function *func* *n* times and return the results in a\u001b[39;00m\n\u001b[0;32m      3\u001b[0m \u001b[38;5;124;03m    container type `container`\u001b[39;00m\n\u001b[0;32m      4\u001b[0m \n\u001b[1;32m   (...)\u001b[0m\n\u001b[0;32m     21\u001b[0m \u001b[38;5;124;03m    See the :ref:`list-of-floats` and :ref:`population` tutorials for more examples.\u001b[39;00m\n\u001b[0;32m     22\u001b[0m \u001b[38;5;124;03m    \"\"\"\u001b[39;00m\n\u001b[1;32m---> 23\u001b[0m     \u001b[38;5;28;01mreturn\u001b[39;00m container(func() \u001b[38;5;28;01mfor\u001b[39;00m _ \u001b[38;5;129;01min\u001b[39;00m \u001b[38;5;28mrange\u001b[39m(n))\n",
      "\u001b[1;31mTypeError\u001b[0m: 'str' object cannot be interpreted as an integer"
     ]
    }
   ],
   "source": [
    "# Comprobación del funcionamiento del algoritmo\n",
    "\n",
    "poblacion_final, logbook = alg_gen.CreaccionCalendarioTurnos (\"./data/datos_enfermeria.txt\", tamano_individuo, tamano_calendario, tamano_poblacion, \"selTournament\", p_cruce, \"cxOnePoint\", p_mutacion, \"mutFlipBit\", turnos, max_generaciones)"
   ]
  },
  {
   "cell_type": "markdown",
   "id": "4ddf8370-e075-468b-9e9c-4d3b6381487d",
   "metadata": {},
   "source": [
    "## Mostramos el calendario por pantalla"
   ]
  },
  {
   "cell_type": "code",
   "execution_count": null,
   "id": "9aa6b590-8328-40f2-8cbd-7a8bb19b2f85",
   "metadata": {},
   "outputs": [],
   "source": []
  }
 ],
 "metadata": {
  "kernelspec": {
   "display_name": "Python 3 (ipykernel)",
   "language": "python",
   "name": "python3"
  },
  "language_info": {
   "codemirror_mode": {
    "name": "ipython",
    "version": 3
   },
   "file_extension": ".py",
   "mimetype": "text/x-python",
   "name": "python",
   "nbconvert_exporter": "python",
   "pygments_lexer": "ipython3",
   "version": "3.11.11"
  }
 },
 "nbformat": 4,
 "nbformat_minor": 5
}
