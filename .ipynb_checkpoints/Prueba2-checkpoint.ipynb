{
 "cells": [
  {
   "cell_type": "markdown",
   "id": "4a9964b9-a6a6-417d-88bd-6cc81b2047a2",
   "metadata": {},
   "source": [
    "### Importaciones de paquetes necesarios"
   ]
  },
  {
   "cell_type": "code",
   "execution_count": 134,
   "id": "90281113-4c34-4385-b989-b1f77774d07e",
   "metadata": {},
   "outputs": [],
   "source": [
    "from deap import creator, base, tools, algorithms\n",
    "\n",
    "import random\n",
    "import numpy as np\n",
    "import pandas as pd\n",
    "import itertools"
   ]
  },
  {
   "cell_type": "markdown",
   "id": "6aa777db-6f2a-4801-adac-bbda3a5433a5",
   "metadata": {},
   "source": [
    "### Creación del turno de enfermería"
   ]
  },
  {
   "cell_type": "code",
   "execution_count": 32,
   "id": "ff11a9ec-2304-4367-bb43-f248abfbb5ce",
   "metadata": {},
   "outputs": [],
   "source": [
    "from turnosenfermeria import TurnosEnfermeria"
   ]
  },
  {
   "cell_type": "code",
   "execution_count": 33,
   "id": "4bfbab48-e35e-4827-bb81-60307336848d",
   "metadata": {},
   "outputs": [
    {
     "name": "stdout",
     "output_type": "stream",
     "text": [
      "   Nombre  Pref_M  Pref_T  Pref_N\n",
      "0   Enf_A       1       1       0\n",
      "1   Enf_B       1       0       1\n",
      "2   Enf_C       1       1       1\n",
      "3   Enf_D       0       1       0\n",
      "4   Enf_E       0       0       1\n",
      "5   Enf_F       0       1       1\n",
      "6   Enf_G       1       1       0\n",
      "7   Enf_H       0       0       1\n",
      "8   Enf_I       1       1       1\n",
      "9   Enf_J       1       1       0\n",
      "10  Enf_K       1       1       1\n",
      "11  Enf_L       1       1       0\n",
      "12  Enf_M       1       0       1\n"
     ]
    }
   ],
   "source": [
    "preferencias = pd.read_csv(\"./data/datos_enfermeria.txt\", sep=' ')\n",
    "print (preferencias)"
   ]
  },
  {
   "cell_type": "code",
   "execution_count": 34,
   "id": "cfed075f-64c0-4e44-a039-13206ff3720b",
   "metadata": {},
   "outputs": [
    {
     "name": "stdout",
     "output_type": "stream",
     "text": [
      "0     Enf_A\n",
      "1     Enf_B\n",
      "2     Enf_C\n",
      "3     Enf_D\n",
      "4     Enf_E\n",
      "5     Enf_F\n",
      "6     Enf_G\n",
      "7     Enf_H\n",
      "8     Enf_I\n",
      "9     Enf_J\n",
      "10    Enf_K\n",
      "11    Enf_L\n",
      "12    Enf_M\n",
      "Name: Nombre, dtype: object\n"
     ]
    }
   ],
   "source": [
    "enfermeras = preferencias[\"Nombre\"]\n",
    "print (enfermeras)"
   ]
  },
  {
   "cell_type": "code",
   "execution_count": 60,
   "id": "d6c7c3bd-2d2f-47ea-a5f7-542d8b165d62",
   "metadata": {},
   "outputs": [
    {
     "data": {
      "text/plain": [
       "273"
      ]
     },
     "execution_count": 60,
     "metadata": {},
     "output_type": "execute_result"
    }
   ],
   "source": [
    "turnos = TurnosEnfermeria (enfermeras, preferencias)\n",
    "\n",
    "\n"
   ]
  },
  {
   "cell_type": "markdown",
   "id": "c566eabd-04d2-4fc1-a42d-c1f5c7d23025",
   "metadata": {},
   "source": [
    "# Algoritmo Genético Simple"
   ]
  },
  {
   "cell_type": "code",
   "execution_count": 69,
   "id": "914f8366-bbb4-40f2-be76-c3f0f3a468cf",
   "metadata": {},
   "outputs": [],
   "source": [
    "tamano_individuo = 21\n",
    "tamano_poblacion = len (preferencias)\n",
    "max_generaciones = 20\n",
    "p_cruce = 0.9\n",
    "p_mutacion = 0.1\n",
    "\n",
    "toolbox = base.Toolbox()"
   ]
  },
  {
   "cell_type": "code",
   "execution_count": 51,
   "id": "0f99fada-41f4-4ae6-9821-82388330e4e7",
   "metadata": {},
   "outputs": [],
   "source": [
    "# Establecemos cual va a ser la función de ajuste e inicializamos los individuos y la población\n",
    "\n",
    "creator.create(\"ClaseAjusteMin\", base.Fitness, weights=(-1.0,))\n",
    "creator.create(\"ClaseIndividuo\", list, fitness=creator.ClaseAjusteMin)\n",
    "\n",
    "toolbox.register(\"ceroOrUno\", random.randint, 0, 1)\n",
    "toolbox.register(\"individual\", tools.initRepeat, creator.ClaseIndividuo, toolbox.ceroOrUno, tamano_individuo)\n",
    "toolbox.register(\"population\", tools.initRepeat, list, toolbox.individual, tamano_poblacion)\n",
    "poblacion = toolbox.population()\n",
    "\n",
    "toolbox.register(\"evaluate\", turnos.getCoste)"
   ]
  },
  {
   "cell_type": "code",
   "execution_count": 52,
   "id": "f238e9b7-d0ab-4094-babb-d2f1269267df",
   "metadata": {},
   "outputs": [],
   "source": [
    "# Establecemos los operadores de selección, cruce y mutación\n",
    "\n",
    "toolbox.register(\"select\", tools.selTournament, tournsize=3)\n",
    "toolbox.register(\"mate\", tools.cxOnePoint)\n",
    "toolbox.register(\"mutate\", tools.mutFlipBit, indpb=1.0/tamano_individuo)"
   ]
  },
  {
   "cell_type": "code",
   "execution_count": 53,
   "id": "5a9f2562-fc05-4b70-b6a1-c507d87d8117",
   "metadata": {},
   "outputs": [],
   "source": [
    "#Incluimos el objeto Statistics\n",
    "\n",
    "stats = tools.Statistics(lambda ind: ind.fitness.values)\n",
    "stats.register(\"avg\", np.mean)\n",
    "stats.register(\"std\", np.std)\n",
    "stats.register(\"max\", np.max)\n",
    "stats.register(\"min\", np.min)"
   ]
  },
  {
   "cell_type": "code",
   "execution_count": 54,
   "id": "a20795b9-bd04-4c07-b684-ea72f201a796",
   "metadata": {},
   "outputs": [],
   "source": [
    "#Incluimos el objeto Hall Of Fame para saber cual es el mejor individuo en cada generación\n",
    "\n",
    "hof = tools.HallOfFame(1)\n"
   ]
  },
  {
   "cell_type": "markdown",
   "id": "38aa472f-6aad-4900-be41-3c9f449b1d1f",
   "metadata": {},
   "source": [
    "## Vamos a crear el Algoritmo Genético Simple a ver que nos devuelve"
   ]
  },
  {
   "cell_type": "code",
   "execution_count": 240,
   "id": "ef67d318-12dc-4f3e-a4eb-7a69af45098b",
   "metadata": {},
   "outputs": [],
   "source": [
    "def coste (individuo):\n",
    "    return turnos.getCoste(individuo),"
   ]
  },
  {
   "cell_type": "code",
   "execution_count": 241,
   "id": "c2048eb1-2cf9-4339-ab2e-f8c2d95b6ad9",
   "metadata": {},
   "outputs": [],
   "source": [
    "def CreaccionCalendarioTurnos (tamano_individuo, tamano_poblacion, p_cruce, p_mutacion, max_generaciones, verbose=True):\n",
    "    toolbox=base.Toolbox()\n",
    "    creator.create(\"ClaseAjusteMin\", base.Fitness, weights=(-1.0,))\n",
    "    creator.create(\"ClaseIndividuo\", list, fitness=creator.ClaseAjusteMin)\n",
    "\n",
    "    toolbox.register(\"ceroOrUno\", random.randint, 0, 1)\n",
    "    toolbox.register(\"individual\", tools.initRepeat, creator.ClaseIndividuo, toolbox.ceroOrUno, tamano_individuo)\n",
    "    toolbox.register(\"population\", tools.initRepeat, list, toolbox.individual, tamano_poblacion)\n",
    "    poblacion = toolbox.population()\n",
    "   \n",
    "\n",
    "\n",
    "    toolbox.register(\"evaluate\", coste)\n",
    "\n",
    "\n",
    "    toolbox.register(\"select\", tools.selTournament, tournsize=3)\n",
    "    toolbox.register(\"mate\", tools.cxOnePoint)\n",
    "    toolbox.register(\"mutate\", tools.mutFlipBit, indpb=1.0/tamano_individuo)\n",
    "\n",
    "\n",
    "    stats = tools.Statistics(lambda ind: ind.fitness.values)\n",
    "    stats.register(\"avg\", np.mean)\n",
    "    stats.register(\"std\", np.std)\n",
    "    stats.register(\"max\", np.max)\n",
    "    stats.register(\"min\", np.min)\n",
    "\n",
    "\n",
    "    hof = tools.HallOfFame(1)\n",
    "    print (poblacion)\n",
    "    poblacion_final, logbook= algorithms.eaSimple(poblacion, toolbox,\n",
    "                                                 cxpb=p_cruce, mutpb=p_mutacion,\n",
    "                                                 ngen=max_generaciones,\n",
    "                                                 stats=stats,halloffame=hof,\n",
    "                                                 verbose=verbose)\n",
    "\n",
    "    return poblacion_final, logbook"
   ]
  },
  {
   "cell_type": "code",
   "execution_count": 242,
   "id": "ddfed97b-60fb-4b5b-ba70-bb7742b92707",
   "metadata": {},
   "outputs": [
    {
     "name": "stdout",
     "output_type": "stream",
     "text": [
      "[[1, 1, 1, 1, 1, 0, 0, 1, 0, 1, 1, 0, 1, 0, 0, 0, 0, 0, 0, 0, 1], [1, 0, 0, 0, 0, 1, 1, 1, 0, 0, 0, 0, 1, 0, 1, 1, 0, 0, 0, 0, 0], [0, 0, 1, 1, 0, 0, 0, 0, 0, 0, 1, 1, 0, 0, 0, 0, 1, 0, 0, 0, 0], [1, 0, 0, 1, 0, 0, 1, 1, 0, 0, 1, 0, 1, 1, 1, 0, 1, 1, 1, 1, 1], [1, 0, 0, 0, 0, 1, 0, 1, 0, 0, 0, 1, 1, 1, 1, 1, 0, 1, 0, 1, 1], [1, 0, 0, 1, 0, 0, 0, 0, 1, 1, 1, 0, 0, 0, 1, 0, 0, 0, 0, 0, 0], [1, 0, 0, 1, 0, 1, 1, 1, 0, 0, 1, 0, 1, 0, 0, 0, 1, 1, 0, 0, 0], [1, 0, 0, 1, 0, 1, 1, 1, 0, 1, 0, 0, 0, 1, 0, 0, 0, 1, 0, 0, 0], [1, 0, 0, 0, 1, 1, 1, 0, 0, 0, 0, 0, 1, 0, 1, 1, 1, 0, 1, 1, 0], [1, 0, 0, 0, 1, 0, 1, 0, 0, 1, 1, 1, 0, 1, 1, 0, 1, 1, 0, 0, 1], [1, 1, 0, 0, 1, 0, 0, 0, 1, 1, 0, 0, 0, 1, 0, 1, 0, 1, 0, 1, 1], [0, 1, 0, 0, 1, 0, 0, 1, 1, 0, 0, 0, 0, 1, 0, 1, 1, 0, 1, 1, 1], [1, 0, 1, 0, 0, 1, 1, 0, 0, 0, 1, 0, 1, 1, 1, 1, 1, 0, 1, 1, 0]]\n"
     ]
    },
    {
     "ename": "ValueError",
     "evalue": "('el tamaño del calendario debe ser igual a: ', 273)",
     "output_type": "error",
     "traceback": [
      "\u001b[1;31m---------------------------------------------------------------------------\u001b[0m",
      "\u001b[1;31mValueError\u001b[0m                                Traceback (most recent call last)",
      "Cell \u001b[1;32mIn[242], line 4\u001b[0m\n\u001b[0;32m      1\u001b[0m \u001b[38;5;66;03m# Comprobación del funcionamiento del algoritmo\u001b[39;00m\n\u001b[1;32m----> 4\u001b[0m poblacion_final, logbook \u001b[38;5;241m=\u001b[39m \u001b[43mCreaccionCalendarioTurnos\u001b[49m\u001b[43m \u001b[49m\u001b[43m(\u001b[49m\u001b[43mtamano_individuo\u001b[49m\u001b[43m,\u001b[49m\u001b[43m \u001b[49m\u001b[43mtamano_poblacion\u001b[49m\u001b[43m,\u001b[49m\u001b[43m \u001b[49m\u001b[43mp_cruce\u001b[49m\u001b[43m,\u001b[49m\u001b[43m \u001b[49m\u001b[43mp_mutacion\u001b[49m\u001b[43m,\u001b[49m\u001b[43m \u001b[49m\u001b[43mmax_generaciones\u001b[49m\u001b[43m)\u001b[49m\n",
      "Cell \u001b[1;32mIn[241], line 30\u001b[0m, in \u001b[0;36mCreaccionCalendarioTurnos\u001b[1;34m(tamano_individuo, tamano_poblacion, p_cruce, p_mutacion, max_generaciones, verbose)\u001b[0m\n\u001b[0;32m     28\u001b[0m hof \u001b[38;5;241m=\u001b[39m tools\u001b[38;5;241m.\u001b[39mHallOfFame(\u001b[38;5;241m1\u001b[39m)\n\u001b[0;32m     29\u001b[0m \u001b[38;5;28mprint\u001b[39m (poblacion)\n\u001b[1;32m---> 30\u001b[0m poblacion_final, logbook\u001b[38;5;241m=\u001b[39m \u001b[43malgorithms\u001b[49m\u001b[38;5;241;43m.\u001b[39;49m\u001b[43meaSimple\u001b[49m\u001b[43m(\u001b[49m\u001b[43mpoblacion\u001b[49m\u001b[43m,\u001b[49m\u001b[43m \u001b[49m\u001b[43mtoolbox\u001b[49m\u001b[43m,\u001b[49m\n\u001b[0;32m     31\u001b[0m \u001b[43m                                             \u001b[49m\u001b[43mcxpb\u001b[49m\u001b[38;5;241;43m=\u001b[39;49m\u001b[43mp_cruce\u001b[49m\u001b[43m,\u001b[49m\u001b[43m \u001b[49m\u001b[43mmutpb\u001b[49m\u001b[38;5;241;43m=\u001b[39;49m\u001b[43mp_mutacion\u001b[49m\u001b[43m,\u001b[49m\n\u001b[0;32m     32\u001b[0m \u001b[43m                                             \u001b[49m\u001b[43mngen\u001b[49m\u001b[38;5;241;43m=\u001b[39;49m\u001b[43mmax_generaciones\u001b[49m\u001b[43m,\u001b[49m\n\u001b[0;32m     33\u001b[0m \u001b[43m                                             \u001b[49m\u001b[43mstats\u001b[49m\u001b[38;5;241;43m=\u001b[39;49m\u001b[43mstats\u001b[49m\u001b[43m,\u001b[49m\u001b[43mhalloffame\u001b[49m\u001b[38;5;241;43m=\u001b[39;49m\u001b[43mhof\u001b[49m\u001b[43m,\u001b[49m\n\u001b[0;32m     34\u001b[0m \u001b[43m                                             \u001b[49m\u001b[43mverbose\u001b[49m\u001b[38;5;241;43m=\u001b[39;49m\u001b[43mverbose\u001b[49m\u001b[43m)\u001b[49m\n\u001b[0;32m     36\u001b[0m \u001b[38;5;28;01mreturn\u001b[39;00m poblacion_final, logbook\n",
      "File \u001b[1;32m~\\anaconda3\\envs\\practica_3_env\\Lib\\site-packages\\deap\\algorithms.py:151\u001b[0m, in \u001b[0;36meaSimple\u001b[1;34m(population, toolbox, cxpb, mutpb, ngen, stats, halloffame, verbose)\u001b[0m\n\u001b[0;32m    149\u001b[0m invalid_ind \u001b[38;5;241m=\u001b[39m [ind \u001b[38;5;28;01mfor\u001b[39;00m ind \u001b[38;5;129;01min\u001b[39;00m population \u001b[38;5;28;01mif\u001b[39;00m \u001b[38;5;129;01mnot\u001b[39;00m ind\u001b[38;5;241m.\u001b[39mfitness\u001b[38;5;241m.\u001b[39mvalid]\n\u001b[0;32m    150\u001b[0m fitnesses \u001b[38;5;241m=\u001b[39m toolbox\u001b[38;5;241m.\u001b[39mmap(toolbox\u001b[38;5;241m.\u001b[39mevaluate, invalid_ind)\n\u001b[1;32m--> 151\u001b[0m \u001b[43m\u001b[49m\u001b[38;5;28;43;01mfor\u001b[39;49;00m\u001b[43m \u001b[49m\u001b[43mind\u001b[49m\u001b[43m,\u001b[49m\u001b[43m \u001b[49m\u001b[43mfit\u001b[49m\u001b[43m \u001b[49m\u001b[38;5;129;43;01min\u001b[39;49;00m\u001b[43m \u001b[49m\u001b[38;5;28;43mzip\u001b[39;49m\u001b[43m(\u001b[49m\u001b[43minvalid_ind\u001b[49m\u001b[43m,\u001b[49m\u001b[43m \u001b[49m\u001b[43mfitnesses\u001b[49m\u001b[43m)\u001b[49m\u001b[43m:\u001b[49m\n\u001b[0;32m    152\u001b[0m \u001b[43m    \u001b[49m\u001b[43mind\u001b[49m\u001b[38;5;241;43m.\u001b[39;49m\u001b[43mfitness\u001b[49m\u001b[38;5;241;43m.\u001b[39;49m\u001b[43mvalues\u001b[49m\u001b[43m \u001b[49m\u001b[38;5;241;43m=\u001b[39;49m\u001b[43m \u001b[49m\u001b[43mfit\u001b[49m\n\u001b[0;32m    154\u001b[0m \u001b[38;5;28;01mif\u001b[39;00m halloffame \u001b[38;5;129;01mis\u001b[39;00m \u001b[38;5;129;01mnot\u001b[39;00m \u001b[38;5;28;01mNone\u001b[39;00m:\n",
      "Cell \u001b[1;32mIn[240], line 2\u001b[0m, in \u001b[0;36mcoste\u001b[1;34m(individuo)\u001b[0m\n\u001b[0;32m      1\u001b[0m \u001b[38;5;28;01mdef\u001b[39;00m\u001b[38;5;250m \u001b[39m\u001b[38;5;21mcoste\u001b[39m (individuo):\n\u001b[1;32m----> 2\u001b[0m     \u001b[38;5;28;01mreturn\u001b[39;00m \u001b[43mturnos\u001b[49m\u001b[38;5;241;43m.\u001b[39;49m\u001b[43mgetCoste\u001b[49m\u001b[43m(\u001b[49m\u001b[43mindividuo\u001b[49m\u001b[43m)\u001b[49m,\n",
      "File \u001b[1;32m~\\Desktop\\UBU\\entornos_git\\Practica3_AndresPaula\\turnosenfermeria.py:57\u001b[0m, in \u001b[0;36mTurnosEnfermeria.getCoste\u001b[1;34m(self, calendario)\u001b[0m\n\u001b[0;32m     49\u001b[0m \u001b[38;5;250m\u001b[39m\u001b[38;5;124;03m\"\"\"\u001b[39;00m\n\u001b[0;32m     50\u001b[0m \u001b[38;5;124;03mCalcula el coste total de las infraciones que se produzcan en el calendario.\u001b[39;00m\n\u001b[0;32m     51\u001b[0m \u001b[38;5;124;03m...\u001b[39;00m\n\u001b[0;32m     52\u001b[0m \u001b[38;5;124;03m:param calendario: lista de valores binarios que describen un calendario.\u001b[39;00m\n\u001b[0;32m     53\u001b[0m \u001b[38;5;124;03m:return: el coste total (tupla)\u001b[39;00m\n\u001b[0;32m     54\u001b[0m \u001b[38;5;124;03m\"\"\"\u001b[39;00m\n\u001b[0;32m     56\u001b[0m \u001b[38;5;28;01mif\u001b[39;00m \u001b[38;5;28mlen\u001b[39m(calendario) \u001b[38;5;241m!=\u001b[39m \u001b[38;5;28mself\u001b[39m\u001b[38;5;241m.\u001b[39m\u001b[38;5;21m__len__\u001b[39m():\n\u001b[1;32m---> 57\u001b[0m     \u001b[38;5;28;01mraise\u001b[39;00m \u001b[38;5;167;01mValueError\u001b[39;00m(\u001b[38;5;124m\"\u001b[39m\u001b[38;5;124mel tamaño del calendario debe ser igual a: \u001b[39m\u001b[38;5;124m\"\u001b[39m, \u001b[38;5;28mself\u001b[39m\u001b[38;5;241m.\u001b[39m\u001b[38;5;21m__len__\u001b[39m())\n\u001b[0;32m     60\u001b[0m turnosEnfermDict \u001b[38;5;241m=\u001b[39m \u001b[38;5;28mself\u001b[39m\u001b[38;5;241m.\u001b[39mgetTurnosEnfermeria(calendario)\n\u001b[0;32m     63\u001b[0m infracionesTurnosConsecutivos \u001b[38;5;241m=\u001b[39m \u001b[38;5;28mself\u001b[39m\u001b[38;5;241m.\u001b[39mcountInfracionesTurnosConsecutivos(turnosEnfermDict)\n",
      "\u001b[1;31mValueError\u001b[0m: ('el tamaño del calendario debe ser igual a: ', 273)"
     ]
    }
   ],
   "source": [
    "# Comprobación del funcionamiento del algoritmo\n",
    "\n",
    "\n",
    "poblacion_final, logbook = CreaccionCalendarioTurnos (tamano_individuo, tamano_poblacion, p_cruce, p_mutacion, max_generaciones)"
   ]
  },
  {
   "cell_type": "code",
   "execution_count": null,
   "id": "c9d33ad4-6f06-410d-b8e2-b7c17e633ff3",
   "metadata": {},
   "outputs": [],
   "source": []
  }
 ],
 "metadata": {
  "kernelspec": {
   "display_name": "Python 3 (ipykernel)",
   "language": "python",
   "name": "python3"
  },
  "language_info": {
   "codemirror_mode": {
    "name": "ipython",
    "version": 3
   },
   "file_extension": ".py",
   "mimetype": "text/x-python",
   "name": "python",
   "nbconvert_exporter": "python",
   "pygments_lexer": "ipython3",
   "version": "3.11.11"
  }
 },
 "nbformat": 4,
 "nbformat_minor": 5
}
