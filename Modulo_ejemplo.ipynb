{
 "cells": [
  {
   "cell_type": "code",
   "execution_count": 1,
   "id": "c2068459-fa31-4836-80a0-53e22cebb571",
   "metadata": {},
   "outputs": [],
   "source": [
    "def saludar (nombre):\n",
    "    print(f\"Hola{nombre}\")"
   ]
  },
  {
   "cell_type": "code",
   "execution_count": 2,
   "id": "be1b8ad7-9731-4f97-9324-ba25363bca28",
   "metadata": {},
   "outputs": [],
   "source": [
    "def sumar (a, b):\n",
    "    return a + b"
   ]
  },
  {
   "cell_type": "code",
   "execution_count": null,
   "id": "dd27abb7-65c9-46bf-8768-122b311ee44e",
   "metadata": {},
   "outputs": [],
   "source": []
  }
 ],
 "metadata": {
  "kernelspec": {
   "display_name": "Python 3 (ipykernel)",
   "language": "python",
   "name": "python3"
  },
  "language_info": {
   "codemirror_mode": {
    "name": "ipython",
    "version": 3
   },
   "file_extension": ".py",
   "mimetype": "text/x-python",
   "name": "python",
   "nbconvert_exporter": "python",
   "pygments_lexer": "ipython3",
   "version": "3.11.11"
  }
 },
 "nbformat": 4,
 "nbformat_minor": 5
}
