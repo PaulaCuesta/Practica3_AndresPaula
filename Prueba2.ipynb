{
 "cells": [
  {
   "cell_type": "markdown",
   "id": "4a9964b9-a6a6-417d-88bd-6cc81b2047a2",
   "metadata": {},
   "source": [
    "### Importaciones de paquetes necesarios"
   ]
  },
  {
   "cell_type": "code",
   "execution_count": 1,
   "id": "90281113-4c34-4385-b989-b1f77774d07e",
   "metadata": {},
   "outputs": [],
   "source": [
    "import Alg_genetico_simple as alg_gen"
   ]
  },
  {
   "cell_type": "markdown",
   "id": "c566eabd-04d2-4fc1-a42d-c1f5c7d23025",
   "metadata": {},
   "source": [
    "# Algoritmo Genético Simple"
   ]
  },
  {
   "cell_type": "code",
   "execution_count": 2,
   "id": "914f8366-bbb4-40f2-be76-c3f0f3a468cf",
   "metadata": {},
   "outputs": [],
   "source": [
    "tamano_individuo = 21\n",
    "tamano_calendario = 13\n",
    "tamano_poblacion = 50\n",
    "max_generaciones = 100\n",
    "p_cruce = 0.9\n",
    "p_mutacion = 0.1\n",
    "algoritmo = \"eaSimple\"\n",
    "mu = 15\n",
    "lambd = 10\n"
   ]
  },
  {
   "cell_type": "code",
   "execution_count": 3,
   "id": "ddfed97b-60fb-4b5b-ba70-bb7742b92707",
   "metadata": {
    "scrolled": true
   },
   "outputs": [
    {
     "name": "stdout",
     "output_type": "stream",
     "text": [
      "Calendario de cada enfermer@:\n",
      "Enf_A : L T D L L N T \n",
      "Enf_B : M N L T L T N \n",
      "Enf_C : T M L L M L L \n",
      "Enf_D : T T L M L L M \n",
      "Enf_E : M M M T N M T \n",
      "Enf_F : T M M M L M M \n",
      "Enf_G : L T T M T M N \n",
      "Enf_H : M N L N T M M \n",
      "Enf_I : L L M M M L T \n",
      "Enf_J : T L T L M L L \n",
      "Enf_K : D L N N L M M \n",
      "Enf_L : T T L L M L M \n",
      "Enf_M : L M T N T L M \n",
      "\n",
      "Infracciones por turnos consecutivos =  8\n",
      "\n",
      "\n",
      "Infracciones por turnos el mismo día =  2\n",
      "\n",
      "Turnos por semana =  [5, 5, 3, 5, 7, 6, 7, 7, 4, 4, 7, 5, 5]\n",
      "Infracciones de turnos por semana =  9\n",
      "\n",
      "Enfermer@ por turno =  [4, 5, 2, 4, 4, 2, 4, 3, 4, 4, 2, 3, 4, 4, 1, 5, 3, 1, 6, 3, 2]\n",
      "Infracciones por enfermer@ por turno =  6\n",
      "\n",
      "Preferencias no cumplidas:  [0, 0, 0, 0]\n",
      "Infracciones por preferencias de turnos =  0\n",
      "\n"
     ]
    }
   ],
   "source": [
    "# Comprobación del funcionamiento del algoritmo\n",
    "\n",
    "poblacion_final, logbook = alg_gen.CreaccionCalendarioTurnos (\"./data/datos_enfermeria.txt\", tamano_individuo, tamano_calendario, tamano_poblacion, \"selTournament\", \n",
    "                                                              p_cruce, \"cxOnePoint\", p_mutacion, \"mutFlipBit\", algoritmo, max_generaciones, mu, lambd, False)"
   ]
  },
  {
   "cell_type": "markdown",
   "id": "4ddf8370-e075-468b-9e9c-4d3b6381487d",
   "metadata": {},
   "source": [
    "## Mostramos el calendario por pantalla"
   ]
  },
  {
   "cell_type": "code",
   "execution_count": 4,
   "id": "a4a8e166-bfdd-4086-a1e4-a7ebe222c9bc",
   "metadata": {},
   "outputs": [
    {
     "name": "stdout",
     "output_type": "stream",
     "text": [
      "gen\tnevals\tavg    \tstd    \tmax   \tmin   \n",
      "0  \t50    \t233.878\t29.8044\t301.28\t171.36\n",
      "1  \t45    \t207.491\t20.8209\t259.84\t169.12\n",
      "2  \t47    \t189.414\t15.8892\t234.08\t164.64\n",
      "3  \t46    \t177.901\t11.3984\t208.32\t145.6 \n",
      "4  \t44    \t168.627\t11.0606\t190.4 \t150.08\n",
      "5  \t36    \t158.547\t12.0714\t185.92\t132.16\n",
      "6  \t45    \t149.856\t11.6308\t184.8 \t127.68\n",
      "7  \t46    \t142.576\t15.2077\t194.88\t115.36\n",
      "8  \t46    \t132.496\t12.5245\t176.96\t114.24\n",
      "9  \t47    \t127.613\t11.545 \t152.32\t99.68 \n",
      "10 \t46    \t118.899\t9.27198\t144.48\t99.68 \n",
      "11 \t42    \t112.986\t7.09992\t125.44\t99.68 \n",
      "12 \t44    \t109.469\t8.03848\t134.4 \t98.56 \n",
      "13 \t39    \t104.541\t7.97204\t137.76\t91.84 \n",
      "14 \t42    \t100.8  \t5.8455 \t126.56\t91.84 \n",
      "15 \t46    \t97.9776\t7.72472\t137.76\t88.48 \n",
      "16 \t46    \t94.08  \t4.8562 \t105.28\t78.4  \n",
      "17 \t46    \t91.2576\t6.75441\t115.36\t78.4  \n",
      "18 \t42    \t86.464 \t5.34793\t103.04\t78.4  \n",
      "19 \t48    \t83.8656\t5.66078\t103.04\t71.68 \n",
      "20 \t41    \t80.9088\t6.98205\t109.76\t71.68 \n",
      "21 \t48    \t77.4592\t4.90943\t99.68 \t70.56 \n",
      "22 \t50    \t75.1072\t5.42899\t108.64\t68.32 \n",
      "23 \t44    \t73.5616\t5.9368 \t101.92\t64.96 \n",
      "24 \t48    \t73.1136\t6.21994\t90.72 \t64.96 \n",
      "25 \t46    \t68.6784\t2.8017 \t77.28 \t62.72 \n",
      "26 \t48    \t68.3424\t5.37362\t89.6  \t61.6  \n",
      "27 \t41    \t66.304 \t4.22048\t84    \t60.48 \n",
      "28 \t45    \t64.8032\t3.42661\t82.88 \t60.48 \n",
      "29 \t46    \t64.3328\t3.72245\t80.64 \t59.36 \n",
      "30 \t46    \t63.5264\t4.31478\t78.4  \t59.36 \n",
      "31 \t48    \t62.2496\t4.12482\t77.28 \t59.36 \n",
      "32 \t48    \t61.1968\t6.32283\t96.32 \t59.36 \n",
      "33 \t48    \t60.256 \t3.23833\t79.52 \t59.36 \n",
      "34 \t46    \t61.824 \t5.85836\t85.12 \t59.36 \n",
      "35 \t45    \t61.1968\t6.896  \t98.56 \t59.36 \n",
      "36 \t47    \t61.152 \t4.66114\t77.28 \t59.36 \n",
      "37 \t46    \t60.032 \t3.29211\t76.16 \t59.36 \n",
      "38 \t46    \t61.04  \t6.3997 \t95.2  \t59.36 \n",
      "39 \t50    \t59.7856\t1.5008 \t66.08 \t58.24 \n",
      "40 \t46    \t61.0848\t6.15576\t82.88 \t50.4  \n",
      "41 \t46    \t58.9792\t4.41007\t75.04 \t50.4  \n",
      "42 \t48    \t56.1568\t4.33201\t69.44 \t48.16 \n",
      "43 \t48    \t53.872 \t7.05955\t91.84 \t45.92 \n",
      "44 \t43    \t51.0496\t4.83596\t77.28 \t43.68 \n",
      "45 \t43    \t49.7952\t3.66163\t69.44 \t43.68 \n",
      "46 \t44    \t50.5344\t8.65707\t86.24 \t43.68 \n",
      "47 \t44    \t46.8384\t3.19693\t63.84 \t43.68 \n",
      "48 \t41    \t46.1664\t3.75018\t64.96 \t43.68 \n",
      "49 \t42    \t46.2112\t6.82303\t81.76 \t40.32 \n",
      "50 \t46    \t45.136 \t5.37717\t67.2  \t40.32 \n",
      "51 \t44    \t43.904 \t3.33   \t60.48 \t38.08 \n",
      "52 \t44    \t43.3888\t5.15107\t67.2  \t38.08 \n",
      "53 \t44    \t42.7616\t5.8054 \t64.96 \t35.84 \n",
      "54 \t45    \t39.8272\t4.14346\t54.88 \t32.48 \n",
      "55 \t46    \t38.416 \t6.34458\t60.48 \t28    \n",
      "56 \t44    \t35.4816\t5.29342\t68.32 \t28    \n",
      "57 \t48    \t33.5776\t4.47154\t59.36 \t28    \n",
      "58 \t46    \t33.2416\t8.3316 \t82.88 \t28    \n",
      "59 \t42    \t30.4416\t4.41621\t50.4  \t28    \n",
      "60 \t44    \t30.8224\t7.41653\t62.72 \t28    \n",
      "61 \t50    \t29.3664\t4.29876\t49.28 \t28    \n",
      "62 \t50    \t29.5008\t6.36574\t66.08 \t28    \n",
      "63 \t42    \t29.3216\t4.67023\t49.28 \t28    \n",
      "64 \t40    \t29.9712\t5.78753\t54.88 \t28    \n",
      "65 \t44    \t29.344 \t5.39463\t54.88 \t28    \n",
      "66 \t46    \t28.6272\t3.14527\t47.04 \t28    \n",
      "67 \t48    \t29.7248\t6.03642\t56    \t28    \n",
      "68 \t43    \t29.6352\t5.95693\t61.6  \t28    \n",
      "69 \t44    \t28.2016\t1.4112 \t38.08 \t28    \n",
      "70 \t47    \t29.232 \t4.34496\t48.16 \t28    \n",
      "71 \t46    \t28.784 \t3.12197\t42.56 \t28    \n",
      "72 \t47    \t29.2096\t4.85538\t58.24 \t28    \n",
      "73 \t47    \t30.3296\t6.51852\t56    \t28    \n",
      "74 \t48    \t29.2096\t4.91699\t53.76 \t28    \n",
      "75 \t44    \t29.8368\t5.0624 \t47.04 \t28    \n",
      "76 \t46    \t29.456 \t4.54808\t48.16 \t28    \n",
      "77 \t46    \t29.8144\t6.51871\t61.6  \t28    \n",
      "78 \t40    \t28.3584\t2.5088 \t45.92 \t28    \n",
      "79 \t47    \t29.568 \t5.0883 \t52.64 \t28    \n",
      "80 \t50    \t29.8144\t5.13683\t52.64 \t28    \n",
      "81 \t42    \t28.8736\t4.35097\t53.76 \t28    \n",
      "82 \t44    \t29.904 \t6.21272\t57.12 \t28    \n",
      "83 \t46    \t30.7328\t7.11587\t60.48 \t28    \n",
      "84 \t48    \t28.6048\t2.98189\t44.8  \t28    \n",
      "85 \t46    \t28.784 \t3.30922\t45.92 \t28    \n",
      "86 \t47    \t29.7248\t5.66773\t59.36 \t28    \n",
      "87 \t49    \t31.1808\t7.80909\t54.88 \t28    \n",
      "88 \t50    \t29.7472\t5.74664\t56    \t28    \n",
      "89 \t46    \t29.1872\t4.24071\t48.16 \t28    \n",
      "90 \t50    \t29.7472\t5.56477\t51.52 \t28    \n",
      "91 \t46    \t29.3216\t4.60531\t49.28 \t28    \n",
      "92 \t50    \t29.68  \t5.39115\t51.52 \t28    \n",
      "93 \t46    \t30.4864\t6.65355\t60.48 \t28    \n",
      "94 \t43    \t29.2768\t5.18602\t56    \t28    \n",
      "95 \t45    \t29.4112\t4.85522\t49.28 \t28    \n",
      "96 \t43    \t28.3136\t1.53632\t35.84 \t28    \n",
      "97 \t47    \t29.792 \t5.884  \t54.88 \t28    \n",
      "98 \t48    \t29.2992\t4.03424\t44.8  \t28    \n",
      "99 \t43    \t30.1952\t6.00203\t54.88 \t28    \n",
      "100\t47    \t31.0464\t7.61943\t66.08 \t28    \n"
     ]
    }
   ],
   "source": [
    "print (logbook)"
   ]
  },
  {
   "cell_type": "code",
   "execution_count": null,
   "id": "116cd7c7-5935-4ff8-9298-e661e38b31f6",
   "metadata": {},
   "outputs": [],
   "source": []
  }
 ],
 "metadata": {
  "kernelspec": {
   "display_name": "Python 3 (ipykernel)",
   "language": "python",
   "name": "python3"
  },
  "language_info": {
   "codemirror_mode": {
    "name": "ipython",
    "version": 3
   },
   "file_extension": ".py",
   "mimetype": "text/x-python",
   "name": "python",
   "nbconvert_exporter": "python",
   "pygments_lexer": "ipython3",
   "version": "3.11.11"
  }
 },
 "nbformat": 4,
 "nbformat_minor": 5
}
