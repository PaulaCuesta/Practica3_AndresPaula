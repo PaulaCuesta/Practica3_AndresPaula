{
 "cells": [
  {
   "cell_type": "markdown",
   "id": "4a9964b9-a6a6-417d-88bd-6cc81b2047a2",
   "metadata": {},
   "source": [
    "### Importaciones de paquetes necesarios"
   ]
  },
  {
   "cell_type": "code",
   "execution_count": 134,
   "id": "90281113-4c34-4385-b989-b1f77774d07e",
   "metadata": {},
   "outputs": [],
   "source": [
    "from deap import creator, base, tools, algorithms\n",
    "\n",
    "import random\n",
    "import numpy as np\n",
    "import pandas as pd\n"
   ]
  },
  {
   "cell_type": "markdown",
   "id": "6aa777db-6f2a-4801-adac-bbda3a5433a5",
   "metadata": {},
   "source": [
    "### Creación del turno de enfermería"
   ]
  },
  {
   "cell_type": "code",
   "execution_count": 32,
   "id": "ff11a9ec-2304-4367-bb43-f248abfbb5ce",
   "metadata": {},
   "outputs": [],
   "source": [
    "from turnosenfermeria import TurnosEnfermeria"
   ]
  },
  {
   "cell_type": "code",
   "execution_count": 33,
   "id": "4bfbab48-e35e-4827-bb81-60307336848d",
   "metadata": {},
   "outputs": [
    {
     "name": "stdout",
     "output_type": "stream",
     "text": [
      "   Nombre  Pref_M  Pref_T  Pref_N\n",
      "0   Enf_A       1       1       0\n",
      "1   Enf_B       1       0       1\n",
      "2   Enf_C       1       1       1\n",
      "3   Enf_D       0       1       0\n",
      "4   Enf_E       0       0       1\n",
      "5   Enf_F       0       1       1\n",
      "6   Enf_G       1       1       0\n",
      "7   Enf_H       0       0       1\n",
      "8   Enf_I       1       1       1\n",
      "9   Enf_J       1       1       0\n",
      "10  Enf_K       1       1       1\n",
      "11  Enf_L       1       1       0\n",
      "12  Enf_M       1       0       1\n"
     ]
    }
   ],
   "source": [
    "preferencias = pd.read_csv(\"./data/datos_enfermeria.txt\", sep=' ')\n",
    "print (preferencias)"
   ]
  },
  {
   "cell_type": "code",
   "execution_count": 34,
   "id": "cfed075f-64c0-4e44-a039-13206ff3720b",
   "metadata": {},
   "outputs": [
    {
     "name": "stdout",
     "output_type": "stream",
     "text": [
      "0     Enf_A\n",
      "1     Enf_B\n",
      "2     Enf_C\n",
      "3     Enf_D\n",
      "4     Enf_E\n",
      "5     Enf_F\n",
      "6     Enf_G\n",
      "7     Enf_H\n",
      "8     Enf_I\n",
      "9     Enf_J\n",
      "10    Enf_K\n",
      "11    Enf_L\n",
      "12    Enf_M\n",
      "Name: Nombre, dtype: object\n"
     ]
    }
   ],
   "source": [
    "enfermeras = preferencias[\"Nombre\"]\n",
    "print (enfermeras)"
   ]
  },
  {
   "cell_type": "code",
   "execution_count": 60,
   "id": "d6c7c3bd-2d2f-47ea-a5f7-542d8b165d62",
   "metadata": {},
   "outputs": [
    {
     "data": {
      "text/plain": [
       "273"
      ]
     },
     "execution_count": 60,
     "metadata": {},
     "output_type": "execute_result"
    }
   ],
   "source": [
    "turnos = TurnosEnfermeria (enfermeras, preferencias)\n",
    "\n",
    "\n"
   ]
  },
  {
   "cell_type": "markdown",
   "id": "c566eabd-04d2-4fc1-a42d-c1f5c7d23025",
   "metadata": {},
   "source": [
    "# Algoritmo Genético Simple"
   ]
  },
  {
   "cell_type": "code",
   "execution_count": 258,
   "id": "914f8366-bbb4-40f2-be76-c3f0f3a468cf",
   "metadata": {},
   "outputs": [],
   "source": [
    "tamano_individuo = 21\n",
    "tamano_calendario = len (preferencias)\n",
    "tamano_poblacion = 50\n",
    "max_generaciones = 100\n",
    "p_cruce = 0.9\n",
    "p_mutacion = 0.1\n",
    "\n",
    "toolbox = base.Toolbox()"
   ]
  },
  {
   "cell_type": "markdown",
   "id": "38aa472f-6aad-4900-be41-3c9f449b1d1f",
   "metadata": {},
   "source": [
    "## Vamos a crear el Algoritmo Genético Simple a ver que nos devuelve"
   ]
  },
  {
   "cell_type": "code",
   "execution_count": 266,
   "id": "c2048eb1-2cf9-4339-ab2e-f8c2d95b6ad9",
   "metadata": {},
   "outputs": [],
   "source": [
    "def CreaccionCalendarioTurnos (tamano_individuo, tamano_poblacion, p_cruce, p_mutacion, max_generaciones, verbose=True):\n",
    "    toolbox=base.Toolbox()\n",
    "    creator.create(\"ClaseAjusteMin\", base.Fitness, weights=(-1.0,))\n",
    "    creator.create(\"ClaseIndividuo\", list, fitness=creator.ClaseAjusteMin)\n",
    "\n",
    "    toolbox.register(\"ceroOrUno\", random.randint, 0, 1)\n",
    "    toolbox.register(\"individual\", tools.initRepeat, creator.ClaseIndividuo, toolbox.ceroOrUno, tamano_individuo*tamano_calendario)\n",
    "    toolbox.register(\"population\", tools.initRepeat, list, toolbox.individual, tamano_poblacion)\n",
    "    poblacion = toolbox.population()\n",
    "   \n",
    "\n",
    "\n",
    "    toolbox.register(\"evaluate\", turnos.getCoste)\n",
    "\n",
    "\n",
    "    toolbox.register(\"select\", tools.selTournament, tournsize=3)\n",
    "    toolbox.register(\"mate\", tools.cxOnePoint)\n",
    "    toolbox.register(\"mutate\", tools.mutFlipBit, indpb=1.0/tamano_individuo)\n",
    "\n",
    "\n",
    "    stats = tools.Statistics(lambda ind: ind.fitness.values)\n",
    "    stats.register(\"avg\", np.mean)\n",
    "    stats.register(\"std\", np.std)\n",
    "    stats.register(\"max\", np.max)\n",
    "    stats.register(\"min\", np.min)\n",
    "\n",
    "\n",
    "    hof = tools.HallOfFame(1)\n",
    "    poblacion_final, logbook= algorithms.eaSimple(poblacion, toolbox,\n",
    "                                                 cxpb=p_cruce, mutpb=p_mutacion,\n",
    "                                                 ngen=max_generaciones,\n",
    "                                                 stats=stats,halloffame=hof,\n",
    "                                                 verbose=verbose)\n",
    "\n",
    "    \n",
    "    turnos.mostrarInfoCalendario (hof[0])\n",
    "    \n",
    "    return poblacion_final, logbook"
   ]
  },
  {
   "cell_type": "code",
   "execution_count": 267,
   "id": "ddfed97b-60fb-4b5b-ba70-bb7742b92707",
   "metadata": {
    "scrolled": true
   },
   "outputs": [
    {
     "name": "stdout",
     "output_type": "stream",
     "text": [
      "gen\tnevals\tavg    \tstd    \tmax   \tmin   \n",
      "0  \t50    \t235.827\t32.3276\t312.48\t166.88\n",
      "1  \t49    \t211.187\t24.449 \t258.72\t165.76\n",
      "2  \t50    \t191.677\t20.791 \t243.04\t160.16\n",
      "3  \t46    \t173.981\t14.8848\t204.96\t145.6 \n",
      "4  \t45    \t160.339\t10.3195\t187.04\t140   \n",
      "5  \t46    \t152.611\t10.1391\t187.04\t136.64\n",
      "6  \t49    \t147.28 \t9.30409\t171.36\t127.68\n",
      "7  \t44    \t140.806\t12.2834\t173.6 \t117.6 \n",
      "8  \t46    \t129.114\t10.882 \t151.2 \t104.16\n",
      "9  \t44    \t121.005\t8.94588\t140   \t103.04\n",
      "10 \t46    \t114.733\t9.78744\t138.88\t95.2  \n",
      "11 \t48    \t105.974\t7.63866\t128.8 \t94.08 \n",
      "12 \t48    \t102.906\t7.9026 \t126.56\t85.12 \n",
      "13 \t42    \t99.6576\t7.38687\t131.04\t85.12 \n",
      "14 \t41    \t95.7152\t6.53147\t117.6 \t82.88 \n",
      "15 \t40    \t91.9296\t6.74921\t124.32\t78.4  \n",
      "16 \t46    \t88.6368\t5.54602\t104.16\t78.4  \n",
      "17 \t46    \t84.2688\t4.52214\t99.68 \t77.28 \n",
      "18 \t47    \t83.888 \t9.8056 \t123.2 \t69.44 \n",
      "19 \t48    \t79.4304\t7.88416\t108.64\t66.08 \n",
      "20 \t45    \t76.048 \t7.13731\t103.04\t60.48 \n",
      "21 \t46    \t70.8512\t5.42159\t92.96 \t60.48 \n",
      "22 \t46    \t70     \t8.93547\t113.12\t60.48 \n",
      "23 \t43    \t66.5952\t8.37895\t99.68 \t58.24 \n",
      "24 \t45    \t62.8992\t5.20702\t78.4  \t54.88 \n",
      "25 \t46    \t61.3312\t5.48027\t84    \t53.76 \n",
      "26 \t42    \t60.5024\t6.38887\t84    \t53.76 \n",
      "27 \t41    \t58.128 \t5.82077\t77.28 \t51.52 \n",
      "28 \t40    \t54.4096\t2.67949\t60.48 \t48.16 \n",
      "29 \t49    \t55.1488\t7.2153 \t76.16 \t48.16 \n",
      "30 \t41    \t52.304 \t7.29033\t79.52 \t48.16 \n",
      "31 \t45    \t52.1024\t9.46447\t99.68 \t48.16 \n",
      "32 \t44    \t49.28  \t4.13036\t69.44 \t48.16 \n",
      "33 \t48    \t49.3472\t4.65257\t76.16 \t48.16 \n",
      "34 \t43    \t50.624 \t7.27569\t85.12 \t48.16 \n",
      "35 \t46    \t50.7136\t7.61943\t87.36 \t48.16 \n",
      "36 \t47    \t49.3024\t4.75434\t78.4  \t48.16 \n",
      "37 \t44    \t50.2208\t5.41024\t73.92 \t48.16 \n",
      "38 \t43    \t50.8928\t7.02718\t73.92 \t48.16 \n",
      "39 \t39    \t49.5936\t5.09835\t71.68 \t48.16 \n",
      "40 \t48    \t50.4896\t6.00153\t75.04 \t48.16 \n",
      "41 \t43    \t48.8544\t2.83243\t62.72 \t48.16 \n",
      "42 \t41    \t49.3248\t4.01304\t66.08 \t48.16 \n",
      "43 \t44    \t48.6528\t2.41422\t60.48 \t48.16 \n",
      "44 \t42    \t50.064 \t7.12676\t85.12 \t48.16 \n",
      "45 \t40    \t50.0864\t7.25165\t89.6  \t48.16 \n",
      "46 \t46    \t50.064 \t6.50468\t82.88 \t48.16 \n",
      "47 \t46    \t50.0864\t6.19165\t80.64 \t48.16 \n",
      "48 \t47    \t50.6016\t6.04256\t71.68 \t48.16 \n",
      "49 \t44    \t48.8992\t3.759  \t71.68 \t48.16 \n",
      "50 \t48    \t50.0416\t6.40828\t77.28 \t48.16 \n",
      "51 \t45    \t49.6608\t4.64826\t68.32 \t48.16 \n",
      "52 \t45    \t50.3552\t6.04783\t70.56 \t48.16 \n",
      "53 \t44    \t49.7056\t5.61293\t82.88 \t48.16 \n",
      "54 \t46    \t49.9744\t6.00174\t78.4  \t48.16 \n",
      "55 \t44    \t49.8848\t6.41911\t80.64 \t48.16 \n",
      "56 \t48    \t50.6464\t7.59717\t78.4  \t48.16 \n",
      "57 \t48    \t49.5264\t4.75329\t71.68 \t48.16 \n",
      "58 \t47    \t52.1472\t9.33078\t91.84 \t48.16 \n",
      "59 \t40    \t49.4592\t5.70369\t81.76 \t48.16 \n",
      "60 \t49    \t50.512 \t6.08213\t78.4  \t48.16 \n",
      "61 \t48    \t50.8928\t6.95901\t80.64 \t48.16 \n",
      "62 \t50    \t48.8544\t2.90242\t64.96 \t48.16 \n",
      "63 \t41    \t48.4736\t1.53632\t56    \t48.16 \n",
      "64 \t46    \t48.8768\t2.60996\t60.48 \t48.16 \n",
      "65 \t46    \t49.7728\t5.27785\t73.92 \t48.16 \n",
      "66 \t48    \t49.4592\t4.72189\t73.92 \t48.16 \n",
      "67 \t48    \t50.1312\t6.78524\t87.36 \t48.16 \n",
      "68 \t45    \t50.064 \t5.47885\t75.04 \t48.16 \n",
      "69 \t43    \t51.296 \t7.48308\t78.4  \t48.16 \n",
      "70 \t44    \t49.2128\t4.78548\t79.52 \t48.16 \n",
      "71 \t44    \t49.8848\t5.6633 \t76.16 \t48.16 \n",
      "72 \t46    \t49.4144\t4.01104\t66.08 \t47.04 \n",
      "73 \t48    \t49.0336\t4.07095\t70.56 \t44.8  \n",
      "74 \t40    \t49.8176\t6.44264\t73.92 \t43.68 \n",
      "75 \t49    \t49.3024\t7.10645\t75.04 \t43.68 \n",
      "76 \t48    \t46.0544\t4.10379\t62.72 \t43.68 \n",
      "77 \t48    \t44.7328\t3.73086\t67.2  \t43.68 \n",
      "78 \t46    \t45.1584\t4.52147\t62.72 \t43.68 \n",
      "79 \t48    \t46.032 \t7.2731 \t75.04 \t43.68 \n",
      "80 \t50    \t45.7856\t5.92072\t68.32 \t43.68 \n",
      "81 \t41    \t44.6656\t3.59546\t63.84 \t43.68 \n",
      "82 \t42    \t44.0832\t2.8224 \t63.84 \t43.68 \n",
      "83 \t48    \t45.92  \t6.05215\t70.56 \t43.68 \n",
      "84 \t50    \t45.8528\t5.51609\t62.72 \t43.68 \n",
      "85 \t44    \t45.248 \t5.04373\t68.32 \t43.68 \n",
      "86 \t46    \t44.576 \t3.29973\t62.72 \t43.68 \n",
      "87 \t44    \t45.4048\t5.86782\t76.16 \t43.68 \n",
      "88 \t44    \t45.8528\t6.00391\t69.44 \t43.68 \n",
      "89 \t42    \t44.576 \t3.91199\t64.96 \t43.68 \n",
      "90 \t38    \t44.9792\t5.63288\t70.56 \t39.2  \n",
      "91 \t48    \t46.3456\t6.827  \t70.56 \t39.2  \n",
      "92 \t47    \t47.04  \t9.75879\t82.88 \t39.2  \n",
      "93 \t49    \t44.3968\t4.10452\t61.6  \t39.2  \n",
      "94 \t45    \t45.0016\t7.51215\t72.8  \t39.2  \n",
      "95 \t48    \t43.5904\t7.41518\t76.16 \t39.2  \n",
      "96 \t42    \t42.0672\t6.25261\t71.68 \t38.08 \n",
      "97 \t47    \t40.9696\t5.04418\t64.96 \t38.08 \n",
      "98 \t48    \t40.2976\t4.7754 \t66.08 \t36.96 \n",
      "99 \t48    \t40.3648\t6.13842\t62.72 \t36.96 \n",
      "100\t40    \t39.4016\t5.86559\t64.96 \t34.72 \n",
      "Calendario de cada enfermer@:\n",
      "Enf_A : M L T M L N N \n",
      "Enf_B : N M L M L M L \n",
      "Enf_C : T L T L N M L \n",
      "Enf_D : M T L T D T M \n",
      "Enf_E : M M D L L L T \n",
      "Enf_F : L M M T T N L \n",
      "Enf_G : D L L M L M M \n",
      "Enf_H : N T M T M T L \n",
      "Enf_I : T D T L L M M \n",
      "Enf_J : T L L N T L T \n",
      "Enf_K : L L L N M N T \n",
      "Enf_L : M L M M M M M \n",
      "Enf_M : L L T L M L N \n",
      "\n",
      "Infracciones por turnos consecutivos =  11\n",
      "\n",
      "\n",
      "Infracciones por turnos el mismo día =  4\n",
      "\n",
      "Turnos por semana =  [5, 5, 5, 8, 5, 5, 5, 8, 6, 4, 4, 9, 3]\n",
      "Infracciones de turnos por semana =  11\n",
      "\n",
      "Enfermer@ por turno =  [5, 3, 3, 4, 2, 2, 4, 5, 1, 4, 5, 2, 5, 3, 2, 5, 3, 4, 4, 4, 2]\n",
      "Infracciones por enfermer@ por turno =  5\n",
      "\n",
      "Preferencias no cumplidas:  [0, 0, 0, 0]\n",
      "Infracciones por preferencias de turnos =  0\n",
      "\n"
     ]
    }
   ],
   "source": [
    "# Comprobación del funcionamiento del algoritmo\n",
    "\n",
    "\n",
    "poblacion_final, logbook = CreaccionCalendarioTurnos (tamano_individuo, tamano_poblacion, p_cruce, p_mutacion, max_generaciones)"
   ]
  },
  {
   "cell_type": "markdown",
   "id": "4ddf8370-e075-468b-9e9c-4d3b6381487d",
   "metadata": {},
   "source": [
    "## Mostramos el calendario por pantalla"
   ]
  },
  {
   "cell_type": "code",
   "execution_count": null,
   "id": "9aa6b590-8328-40f2-8cbd-7a8bb19b2f85",
   "metadata": {},
   "outputs": [],
   "source": []
  }
 ],
 "metadata": {
  "kernelspec": {
   "display_name": "Python 3 (ipykernel)",
   "language": "python",
   "name": "python3"
  },
  "language_info": {
   "codemirror_mode": {
    "name": "ipython",
    "version": 3
   },
   "file_extension": ".py",
   "mimetype": "text/x-python",
   "name": "python",
   "nbconvert_exporter": "python",
   "pygments_lexer": "ipython3",
   "version": "3.11.11"
  }
 },
 "nbformat": 4,
 "nbformat_minor": 5
}
