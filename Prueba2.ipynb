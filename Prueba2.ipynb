{
 "cells": [
  {
   "cell_type": "markdown",
   "id": "4a9964b9-a6a6-417d-88bd-6cc81b2047a2",
   "metadata": {},
   "source": [
    "### Importaciones de paquetes necesarios"
   ]
  },
  {
   "cell_type": "code",
   "execution_count": 1,
   "id": "90281113-4c34-4385-b989-b1f77774d07e",
   "metadata": {},
   "outputs": [],
   "source": [
    "from turnosenfermeria import TurnosEnfermeria\n",
    "import Alg_genetico_simple as alg_gen"
   ]
  },
  {
   "cell_type": "markdown",
   "id": "c566eabd-04d2-4fc1-a42d-c1f5c7d23025",
   "metadata": {},
   "source": [
    "# Algoritmo Genético Simple"
   ]
  },
  {
   "cell_type": "code",
   "execution_count": 2,
   "id": "914f8366-bbb4-40f2-be76-c3f0f3a468cf",
   "metadata": {},
   "outputs": [],
   "source": [
    "tamano_individuo = 21\n",
    "tamano_calendario = 13\n",
    "tamano_poblacion = 50\n",
    "max_generaciones = 100\n",
    "p_cruce = 0.9\n",
    "p_mutacion = 0.1\n",
    "algoritmo = \"eaSimple\"\n"
   ]
  },
  {
   "cell_type": "code",
   "execution_count": 3,
   "id": "ddfed97b-60fb-4b5b-ba70-bb7742b92707",
   "metadata": {
    "scrolled": true
   },
   "outputs": [
    {
     "name": "stdout",
     "output_type": "stream",
     "text": [
      "gen\tnevals\tavg    \tstd    \tmax  \tmin   \n",
      "0  \t50    \t232.176\t30.0246\t291.2\t161.28\n"
     ]
    },
    {
     "ename": "TypeError",
     "evalue": "object of type 'float' has no len()",
     "output_type": "error",
     "traceback": [
      "\u001b[1;31m---------------------------------------------------------------------------\u001b[0m",
      "\u001b[1;31mTypeError\u001b[0m                                 Traceback (most recent call last)",
      "Cell \u001b[1;32mIn[3], line 3\u001b[0m\n\u001b[0;32m      1\u001b[0m \u001b[38;5;66;03m# Comprobación del funcionamiento del algoritmo\u001b[39;00m\n\u001b[1;32m----> 3\u001b[0m poblacion_final, logbook \u001b[38;5;241m=\u001b[39m \u001b[43malg_gen\u001b[49m\u001b[38;5;241;43m.\u001b[39;49m\u001b[43mCreaccionCalendarioTurnos\u001b[49m\u001b[43m \u001b[49m\u001b[43m(\u001b[49m\u001b[38;5;124;43m\"\u001b[39;49m\u001b[38;5;124;43m./data/datos_enfermeria.txt\u001b[39;49m\u001b[38;5;124;43m\"\u001b[39;49m\u001b[43m,\u001b[49m\u001b[43m \u001b[49m\u001b[43mtamano_individuo\u001b[49m\u001b[43m,\u001b[49m\u001b[43m \u001b[49m\u001b[43mtamano_calendario\u001b[49m\u001b[43m,\u001b[49m\u001b[43m \u001b[49m\u001b[43mtamano_poblacion\u001b[49m\u001b[43m,\u001b[49m\u001b[43m \u001b[49m\u001b[38;5;124;43m\"\u001b[39;49m\u001b[38;5;124;43mselTournament\u001b[39;49m\u001b[38;5;124;43m\"\u001b[39;49m\u001b[43m,\u001b[49m\u001b[43m \u001b[49m\u001b[43mp_cruce\u001b[49m\u001b[43m,\u001b[49m\u001b[43m \u001b[49m\u001b[38;5;124;43m\"\u001b[39;49m\u001b[38;5;124;43mcxOnePoint\u001b[39;49m\u001b[38;5;124;43m\"\u001b[39;49m\u001b[43m,\u001b[49m\u001b[43m \u001b[49m\u001b[43mp_mutacion\u001b[49m\u001b[43m,\u001b[49m\u001b[43m \u001b[49m\u001b[38;5;124;43m\"\u001b[39;49m\u001b[38;5;124;43mmutFlipBit\u001b[39;49m\u001b[38;5;124;43m\"\u001b[39;49m\u001b[43m,\u001b[49m\u001b[43m \u001b[49m\u001b[43mmax_generaciones\u001b[49m\u001b[43m)\u001b[49m\n",
      "File \u001b[1;32m~\\Desktop\\UBU\\entornos_git\\Practica3_AndresPaula\\Alg_genetico_simple.py:121\u001b[0m, in \u001b[0;36mCreaccionCalendarioTurnos\u001b[1;34m(ruta_archivo, tamano_individuo, tamano_calendario, tamano_poblacion, seleccion, p_cruce, cruce, p_mutacion, mutacion, max_generaciones, verbose)\u001b[0m\n\u001b[0;32m    117\u001b[0m stats\u001b[38;5;241m.\u001b[39mregister(\u001b[38;5;124m\"\u001b[39m\u001b[38;5;124mmin\u001b[39m\u001b[38;5;124m\"\u001b[39m, np\u001b[38;5;241m.\u001b[39mmin)\n\u001b[0;32m    120\u001b[0m hof \u001b[38;5;241m=\u001b[39m tools\u001b[38;5;241m.\u001b[39mHallOfFame(\u001b[38;5;241m1\u001b[39m)\n\u001b[1;32m--> 121\u001b[0m poblacion_final, logbook\u001b[38;5;241m=\u001b[39m \u001b[43malgorithms\u001b[49m\u001b[38;5;241;43m.\u001b[39;49m\u001b[43meaSimple\u001b[49m\u001b[43m(\u001b[49m\u001b[43mpoblacion\u001b[49m\u001b[43m,\u001b[49m\u001b[43m \u001b[49m\u001b[43mtoolbox\u001b[49m\u001b[43m,\u001b[49m\u001b[43m \u001b[49m\u001b[43mcxpb\u001b[49m\u001b[38;5;241;43m=\u001b[39;49m\u001b[43mp_cruce\u001b[49m\u001b[43m,\u001b[49m\u001b[43m \u001b[49m\u001b[43mmutpb\u001b[49m\u001b[38;5;241;43m=\u001b[39;49m\u001b[43mp_mutacion\u001b[49m\u001b[43m,\u001b[49m\u001b[43m \u001b[49m\u001b[43mngen\u001b[49m\u001b[38;5;241;43m=\u001b[39;49m\u001b[43mmax_generaciones\u001b[49m\u001b[43m,\u001b[49m\u001b[43mstats\u001b[49m\u001b[38;5;241;43m=\u001b[39;49m\u001b[43mstats\u001b[49m\u001b[43m,\u001b[49m\n\u001b[0;32m    122\u001b[0m \u001b[43m                                              \u001b[49m\u001b[43mhalloffame\u001b[49m\u001b[38;5;241;43m=\u001b[39;49m\u001b[43mhof\u001b[49m\u001b[43m,\u001b[49m\u001b[43mverbose\u001b[49m\u001b[38;5;241;43m=\u001b[39;49m\u001b[43mverbose\u001b[49m\u001b[43m)\u001b[49m\n\u001b[0;32m    125\u001b[0m turnos\u001b[38;5;241m.\u001b[39mmostrarInfoCalendario (hof[\u001b[38;5;241m0\u001b[39m])\n\u001b[0;32m    127\u001b[0m \u001b[38;5;28;01mreturn\u001b[39;00m poblacion_final, logbook\n",
      "File \u001b[1;32m~\\anaconda3\\envs\\practica_3_env\\Lib\\site-packages\\deap\\algorithms.py:168\u001b[0m, in \u001b[0;36meaSimple\u001b[1;34m(population, toolbox, cxpb, mutpb, ngen, stats, halloffame, verbose)\u001b[0m\n\u001b[0;32m    165\u001b[0m offspring \u001b[38;5;241m=\u001b[39m toolbox\u001b[38;5;241m.\u001b[39mselect(population, \u001b[38;5;28mlen\u001b[39m(population))\n\u001b[0;32m    167\u001b[0m \u001b[38;5;66;03m# Vary the pool of individuals\u001b[39;00m\n\u001b[1;32m--> 168\u001b[0m offspring \u001b[38;5;241m=\u001b[39m \u001b[43mvarAnd\u001b[49m\u001b[43m(\u001b[49m\u001b[43moffspring\u001b[49m\u001b[43m,\u001b[49m\u001b[43m \u001b[49m\u001b[43mtoolbox\u001b[49m\u001b[43m,\u001b[49m\u001b[43m \u001b[49m\u001b[43mcxpb\u001b[49m\u001b[43m,\u001b[49m\u001b[43m \u001b[49m\u001b[43mmutpb\u001b[49m\u001b[43m)\u001b[49m\n\u001b[0;32m    170\u001b[0m \u001b[38;5;66;03m# Evaluate the individuals with an invalid fitness\u001b[39;00m\n\u001b[0;32m    171\u001b[0m invalid_ind \u001b[38;5;241m=\u001b[39m [ind \u001b[38;5;28;01mfor\u001b[39;00m ind \u001b[38;5;129;01min\u001b[39;00m offspring \u001b[38;5;28;01mif\u001b[39;00m \u001b[38;5;129;01mnot\u001b[39;00m ind\u001b[38;5;241m.\u001b[39mfitness\u001b[38;5;241m.\u001b[39mvalid]\n",
      "File \u001b[1;32m~\\anaconda3\\envs\\practica_3_env\\Lib\\site-packages\\deap\\algorithms.py:79\u001b[0m, in \u001b[0;36mvarAnd\u001b[1;34m(population, toolbox, cxpb, mutpb)\u001b[0m\n\u001b[0;32m     77\u001b[0m \u001b[38;5;28;01mfor\u001b[39;00m i \u001b[38;5;129;01min\u001b[39;00m \u001b[38;5;28mrange\u001b[39m(\u001b[38;5;28mlen\u001b[39m(offspring)):\n\u001b[0;32m     78\u001b[0m     \u001b[38;5;28;01mif\u001b[39;00m random\u001b[38;5;241m.\u001b[39mrandom() \u001b[38;5;241m<\u001b[39m mutpb:\n\u001b[1;32m---> 79\u001b[0m         offspring[i], \u001b[38;5;241m=\u001b[39m \u001b[43mtoolbox\u001b[49m\u001b[38;5;241;43m.\u001b[39;49m\u001b[43mmutate\u001b[49m\u001b[43m(\u001b[49m\u001b[43moffspring\u001b[49m\u001b[43m[\u001b[49m\u001b[43mi\u001b[49m\u001b[43m]\u001b[49m\u001b[43m)\u001b[49m\n\u001b[0;32m     80\u001b[0m         \u001b[38;5;28;01mdel\u001b[39;00m offspring[i]\u001b[38;5;241m.\u001b[39mfitness\u001b[38;5;241m.\u001b[39mvalues\n\u001b[0;32m     82\u001b[0m \u001b[38;5;28;01mreturn\u001b[39;00m offspring\n",
      "File \u001b[1;32m~\\anaconda3\\envs\\practica_3_env\\Lib\\site-packages\\deap\\tools\\mutation.py:137\u001b[0m, in \u001b[0;36mmutFlipBit\u001b[1;34m(individual, indpb)\u001b[0m\n\u001b[0;32m    123\u001b[0m \u001b[38;5;28;01mdef\u001b[39;00m\u001b[38;5;250m \u001b[39m\u001b[38;5;21mmutFlipBit\u001b[39m(individual, indpb):\n\u001b[0;32m    124\u001b[0m \u001b[38;5;250m    \u001b[39m\u001b[38;5;124;03m\"\"\"Flip the value of the attributes of the input individual and return the\u001b[39;00m\n\u001b[0;32m    125\u001b[0m \u001b[38;5;124;03m    mutant. The *individual* is expected to be a :term:`sequence` and the values of the\u001b[39;00m\n\u001b[0;32m    126\u001b[0m \u001b[38;5;124;03m    attributes shall stay valid after the ``not`` operator is called on them.\u001b[39;00m\n\u001b[1;32m   (...)\u001b[0m\n\u001b[0;32m    135\u001b[0m \u001b[38;5;124;03m    :mod:`random` module.\u001b[39;00m\n\u001b[0;32m    136\u001b[0m \u001b[38;5;124;03m    \"\"\"\u001b[39;00m\n\u001b[1;32m--> 137\u001b[0m     \u001b[38;5;28;01mfor\u001b[39;00m i \u001b[38;5;129;01min\u001b[39;00m \u001b[38;5;28mrange\u001b[39m(\u001b[38;5;28;43mlen\u001b[39;49m\u001b[43m(\u001b[49m\u001b[43mindividual\u001b[49m\u001b[43m)\u001b[49m):\n\u001b[0;32m    138\u001b[0m         \u001b[38;5;28;01mif\u001b[39;00m random\u001b[38;5;241m.\u001b[39mrandom() \u001b[38;5;241m<\u001b[39m indpb:\n\u001b[0;32m    139\u001b[0m             individual[i] \u001b[38;5;241m=\u001b[39m \u001b[38;5;28mtype\u001b[39m(individual[i])(\u001b[38;5;129;01mnot\u001b[39;00m individual[i])\n",
      "\u001b[1;31mTypeError\u001b[0m: object of type 'float' has no len()"
     ]
    }
   ],
   "source": [
    "# Comprobación del funcionamiento del algoritmo\n",
    "\n",
    "poblacion_final, logbook = alg_gen.CreaccionCalendarioTurnos (\"./data/datos_enfermeria.txt\", tamano_individuo, tamano_calendario, tamano_poblacion, \"selTournament\", p_cruce, \"cxOnePoint\", p_mutacion, \"mutFlipBit\", max_generaciones)"
   ]
  },
  {
   "cell_type": "markdown",
   "id": "4ddf8370-e075-468b-9e9c-4d3b6381487d",
   "metadata": {},
   "source": [
    "## Mostramos el calendario por pantalla"
   ]
  },
  {
   "cell_type": "code",
   "execution_count": null,
   "id": "9aa6b590-8328-40f2-8cbd-7a8bb19b2f85",
   "metadata": {},
   "outputs": [],
   "source": []
  }
 ],
 "metadata": {
  "kernelspec": {
   "display_name": "Python 3 (ipykernel)",
   "language": "python",
   "name": "python3"
  },
  "language_info": {
   "codemirror_mode": {
    "name": "ipython",
    "version": 3
   },
   "file_extension": ".py",
   "mimetype": "text/x-python",
   "name": "python",
   "nbconvert_exporter": "python",
   "pygments_lexer": "ipython3",
   "version": "3.11.11"
  }
 },
 "nbformat": 4,
 "nbformat_minor": 5
}
