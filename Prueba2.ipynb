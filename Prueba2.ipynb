{
 "cells": [
  {
   "cell_type": "markdown",
   "id": "4a9964b9-a6a6-417d-88bd-6cc81b2047a2",
   "metadata": {},
   "source": [
    "### Importaciones de paquetes necesarios"
   ]
  },
  {
   "cell_type": "code",
   "execution_count": 13,
   "id": "90281113-4c34-4385-b989-b1f77774d07e",
   "metadata": {},
   "outputs": [],
   "source": [
    "from deap import creator, base, tools, algorithms\n",
    "\n",
    "import random\n",
    "import numpy as np\n",
    "import pandas as pd"
   ]
  },
  {
   "cell_type": "markdown",
   "id": "6aa777db-6f2a-4801-adac-bbda3a5433a5",
   "metadata": {},
   "source": [
    "### Creación del turno de enfermería"
   ]
  },
  {
   "cell_type": "code",
   "execution_count": 32,
   "id": "ff11a9ec-2304-4367-bb43-f248abfbb5ce",
   "metadata": {},
   "outputs": [],
   "source": [
    "from turnosenfermeria import TurnosEnfermeria"
   ]
  },
  {
   "cell_type": "code",
   "execution_count": 33,
   "id": "4bfbab48-e35e-4827-bb81-60307336848d",
   "metadata": {},
   "outputs": [
    {
     "name": "stdout",
     "output_type": "stream",
     "text": [
      "   Nombre  Pref_M  Pref_T  Pref_N\n",
      "0   Enf_A       1       1       0\n",
      "1   Enf_B       1       0       1\n",
      "2   Enf_C       1       1       1\n",
      "3   Enf_D       0       1       0\n",
      "4   Enf_E       0       0       1\n",
      "5   Enf_F       0       1       1\n",
      "6   Enf_G       1       1       0\n",
      "7   Enf_H       0       0       1\n",
      "8   Enf_I       1       1       1\n",
      "9   Enf_J       1       1       0\n",
      "10  Enf_K       1       1       1\n",
      "11  Enf_L       1       1       0\n",
      "12  Enf_M       1       0       1\n"
     ]
    }
   ],
   "source": [
    "preferencias = pd.read_csv(\"./data/datos_enfermeria.txt\", sep=' ')\n",
    "print (preferencias)"
   ]
  },
  {
   "cell_type": "code",
   "execution_count": 34,
   "id": "cfed075f-64c0-4e44-a039-13206ff3720b",
   "metadata": {},
   "outputs": [
    {
     "name": "stdout",
     "output_type": "stream",
     "text": [
      "0     Enf_A\n",
      "1     Enf_B\n",
      "2     Enf_C\n",
      "3     Enf_D\n",
      "4     Enf_E\n",
      "5     Enf_F\n",
      "6     Enf_G\n",
      "7     Enf_H\n",
      "8     Enf_I\n",
      "9     Enf_J\n",
      "10    Enf_K\n",
      "11    Enf_L\n",
      "12    Enf_M\n",
      "Name: Nombre, dtype: object\n"
     ]
    }
   ],
   "source": [
    "enfermeras = preferencias[\"Nombre\"]\n",
    "print (enfermeras)"
   ]
  },
  {
   "cell_type": "code",
   "execution_count": 36,
   "id": "d6c7c3bd-2d2f-47ea-a5f7-542d8b165d62",
   "metadata": {},
   "outputs": [
    {
     "name": "stdout",
     "output_type": "stream",
     "text": [
      "<turnosenfermeria.TurnosEnfermeria object at 0x000002E9A0FC4210>\n"
     ]
    }
   ],
   "source": [
    "turnos = TurnosEnfermeria (enfermeras, preferencias)\n"
   ]
  },
  {
   "cell_type": "markdown",
   "id": "c566eabd-04d2-4fc1-a42d-c1f5c7d23025",
   "metadata": {},
   "source": [
    "# Algoritmo Genético Simple"
   ]
  },
  {
   "cell_type": "code",
   "execution_count": 44,
   "id": "914f8366-bbb4-40f2-be76-c3f0f3a468cf",
   "metadata": {},
   "outputs": [],
   "source": [
    "tamano_individuo = 21\n",
    "tamano_poblacion = len (preferencias)\n",
    "max_generaciones = 20\n",
    "\n",
    "toolbox = base.Toolbox()"
   ]
  },
  {
   "cell_type": "code",
   "execution_count": 51,
   "id": "0f99fada-41f4-4ae6-9821-82388330e4e7",
   "metadata": {},
   "outputs": [],
   "source": [
    "# Establecemos cual va a ser la función de ajuste e inicializamos los individuos y la población\n",
    "\n",
    "creator.create(\"ClaseAjusteMin\", base.Fitness, weights=(-1.0,))\n",
    "creator.create(\"ClaseIndividuo\", list, fitness=creator.ClaseAjusteMin)\n",
    "\n",
    "toolbox.register(\"ceroOrUno\", random.randint, 0, 1)\n",
    "toolbox.register(\"individual\", tools.initRepeat, creator.ClaseIndividuo, toolbox.ceroOrUno, tamano_individuo)\n",
    "toolbox.register(\"population\", tools.initRepeat, list, toolbox.individual, tamano_poblacion)\n",
    "poblacion = toolbox.population()\n",
    "\n",
    "toolbox.register(\"evaluate\", turnos.getCoste)"
   ]
  },
  {
   "cell_type": "code",
   "execution_count": null,
   "id": "f238e9b7-d0ab-4094-babb-d2f1269267df",
   "metadata": {},
   "outputs": [],
   "source": []
  }
 ],
 "metadata": {
  "kernelspec": {
   "display_name": "Python 3 (ipykernel)",
   "language": "python",
   "name": "python3"
  },
  "language_info": {
   "codemirror_mode": {
    "name": "ipython",
    "version": 3
   },
   "file_extension": ".py",
   "mimetype": "text/x-python",
   "name": "python",
   "nbconvert_exporter": "python",
   "pygments_lexer": "ipython3",
   "version": "3.11.11"
  }
 },
 "nbformat": 4,
 "nbformat_minor": 5
}
