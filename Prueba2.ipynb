{
 "cells": [
  {
   "cell_type": "code",
   "execution_count": null,
   "id": "07974bc1-7698-4b0b-86dd-73c94e8540e0",
   "metadata": {},
   "outputs": [],
   "source": []
  }
 ],
 "metadata": {
  "kernelspec": {
   "display_name": "",
   "name": ""
  },
  "language_info": {
   "name": ""
  }
 },
 "nbformat": 4,
 "nbformat_minor": 5
}
