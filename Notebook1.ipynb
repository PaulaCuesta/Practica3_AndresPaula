{
 "cells": [
  {
   "cell_type": "markdown",
   "id": "4329069f-cd38-4f40-a8ae-c2e02f04cae5",
   "metadata": {},
   "source": [
    "# Práctica 3 -- Algoritmos genéticos"
   ]
  },
  {
   "cell_type": "markdown",
   "id": "a75aa1b8-f081-42e8-b919-d96ffddaa9f3",
   "metadata": {},
   "source": [
    "## Notebook Algoritmos Genéticos II"
   ]
  },
  {
   "cell_type": "markdown",
   "id": "f34d156d-763a-4d89-ac1e-6aae64e785f7",
   "metadata": {},
   "source": [
    "### Módulo Creator\n",
    "\n",
    "Crea una clase que extiende de otras, la cual puede tener una serie de atributos."
   ]
  },
  {
   "cell_type": "code",
   "execution_count": 1,
   "id": "c19735f5-572e-4d7f-af54-a7def25e7e8d",
   "metadata": {},
   "outputs": [],
   "source": [
    "from deap import creator"
   ]
  },
  {
   "cell_type": "code",
   "execution_count": null,
   "id": "253b0f73-9564-4a13-b001-29738b7ea441",
   "metadata": {},
   "outputs": [],
   "source": []
  },
  {
   "cell_type": "markdown",
   "id": "6bd52133-990c-4bca-960c-e8c43889a643",
   "metadata": {},
   "source": [
    "### Módulo Base"
   ]
  },
  {
   "cell_type": "code",
   "execution_count": 3,
   "id": "46efdc79-bc65-4ad2-b454-3b3d4cf0f12e",
   "metadata": {},
   "outputs": [],
   "source": [
    "from deap import base"
   ]
  },
  {
   "cell_type": "markdown",
   "id": "8ba2673d-ed37-4cff-86ed-8349e70702f7",
   "metadata": {},
   "source": [
    "#### Clase Fitness\n",
    "Es la función de ajuste, la cual nos permite seleccionar si queremos llevar a cabo un problema de maximización o minimización."
   ]
  },
  {
   "cell_type": "markdown",
   "id": "56b65e7a-b0b3-405d-a80b-13d92df1b7ad",
   "metadata": {},
   "source": [
    "#### Clase Toolbox\n",
    "Nos permite la creacción y utilización de diferentes operaciones predefinidas y sin definir."
   ]
  },
  {
   "cell_type": "markdown",
   "id": "481f16be-9740-49a3-87a8-9a414f4b83a6",
   "metadata": {},
   "source": [
    "##### Método register\n",
    "Nos permite modificar operaciones que ya han sido definidas previamente."
   ]
  },
  {
   "cell_type": "markdown",
   "id": "137aad98-7493-4c95-a72b-3a692d33388e",
   "metadata": {},
   "source": [
    "### Módulo tools\n",
    "\n",
    "Contiene un montón de operaciones genéticas tales como selección, cruce o mutación; así como algunas funcionalidades de inicialización de las poblaciones."
   ]
  },
  {
   "cell_type": "code",
   "execution_count": 11,
   "id": "52fb6508-e841-458a-910d-3377b64e40ec",
   "metadata": {},
   "outputs": [],
   "source": [
    "from deap import tools"
   ]
  },
  {
   "cell_type": "markdown",
   "id": "fd062aad-a8fc-48b2-a0ad-ec8de311430d",
   "metadata": {},
   "source": [
    "#### Función initRepeat\n",
    "Almacena en un determinado tipo de estructura el resultado de aplicar una función un determinado número de veces.\n",
    "\n",
    "Sirve para crear individuos compuestos por una cadena binaria."
   ]
  },
  {
   "cell_type": "code",
   "execution_count": 10,
   "id": "149fa95a-5cb5-41bd-97dd-03fe2e5352af",
   "metadata": {},
   "outputs": [],
   "source": [
    "import random"
   ]
  },
  {
   "cell_type": "markdown",
   "id": "bc2312aa-1a01-4f56-84fe-7826a5a42545",
   "metadata": {},
   "source": [
    "#### Función initIterate\n",
    "Almacena en un determinado tipo de estructura el resultado de aplicar una función un determinado número de veces. \n",
    "\n",
    "Sirve para crear individuos compuestos por números enteros."
   ]
  },
  {
   "cell_type": "code",
   "execution_count": 24,
   "id": "990c81ac-cd76-40e8-85ee-298ae72ceda2",
   "metadata": {},
   "outputs": [],
   "source": [
    "import numpy as np"
   ]
  },
  {
   "cell_type": "markdown",
   "id": "abe2277d-6a90-430d-a9b8-68bcf44ad759",
   "metadata": {},
   "source": [
    "#### Función selBest  -  Selección de los k mejores\n",
    "\n",
    "Selecciona los k - individuos de la población con mayor valor de ajuste."
   ]
  },
  {
   "cell_type": "markdown",
   "id": "8d8cf75f-6399-4818-b8ce-089d185863ec",
   "metadata": {},
   "source": [
    "#### Función selTournament - Selección por torneo\n",
    "Selecciona los k-individuos que indiquemos y que se eligen por ser los ganadores de un torneo, el cual depende del valor de ajuste de los participantes.\n"
   ]
  },
  {
   "cell_type": "markdown",
   "id": "509bc70c-9ca7-4eb5-8119-4f90ce8da15b",
   "metadata": {},
   "source": [
    "#### Función selRoulette - Selección por ruleta\n",
    "Selecciona un número predeterminado de k - individuos por ruleta. Sin embargo, aquellos individuos con mayor valor de ajuste tienen mayor probabilidad de ser seleccionados. La ruleta se repite hasta obtener el número de individuos deseado."
   ]
  },
  {
   "cell_type": "markdown",
   "id": "179df762-720b-413c-b488-0096febd4886",
   "metadata": {},
   "source": [
    "#### Función selStochasticUniversalSampling - Selección por Muestreo Universal Estocástico\n",
    "Es una variación del muestreo por ruleta. \n",
    "\n",
    "Selecciona k - elementos pero en una sola vuelta, ya que la ruleta tiene varios puntos de selección de los individuos de la población."
   ]
  },
  {
   "cell_type": "markdown",
   "id": "85489d93-707d-4f3c-a75c-039b2303c5e1",
   "metadata": {},
   "source": [
    "#### Función cxOnePoint - Cruce de un Punto\n",
    "Realizan una operación de cruce entre individuos, seleccionando un punto de cruce aleatorio e intercambiando la información genética del cromosoma que se encuentra a la derecha de dicho punto de cruce entre los individuos."
   ]
  },
  {
   "cell_type": "markdown",
   "id": "43cfb65d-fb63-4c72-bcd4-3b8f2e2d5c87",
   "metadata": {},
   "source": [
    "#### Función cxTwoPoint - Cruce de dos Puntos\n",
    "Realiza una operación de cruce entre dos individuos, seleccionando dos puntos de cruce aleatorios en los cromosomas e intercambiando entre ambos la información que se encuentra localizada entre los mismos."
   ]
  },
  {
   "cell_type": "markdown",
   "id": "151d0a09-b734-433c-9807-67766f581b4f",
   "metadata": {},
   "source": [
    "#### Función cxUniform - Cruce Uniforme\n",
    "Realiza una operación de cruce entre dos individuos, seleccionando de forma aleatoria en función de la probabilidad de uno de los progenitores de influir en la descendencia, por lo que se genera de forma aleatoria los cruces entre los cromosomas."
   ]
  },
  {
   "cell_type": "markdown",
   "id": "45287242-4c2a-4eb9-a806-c43e66efaf37",
   "metadata": {},
   "source": [
    "#### Función cxOrdered - Cruces en Representación de Orden\n",
    "Realiza una operación de cruce, seleccionando dos puntos de corte en los individuos, los genes que se encuentran entre dichos puntos de corte pasan a la descendencia, y el resto del cromosoma se rellena con los genes del cromosoma del otro individuo que todavía no se encuentren en la descendencia de nuestro individuo de interés."
   ]
  },
  {
   "cell_type": "markdown",
   "id": "da60194c-b980-4650-95d3-051b6d90e124",
   "metadata": {},
   "source": [
    "#### Función mutFlipBit - Mutación de Volteo de Bit (Flip Bit)\n",
    "Esta operación de mutación se utiliza con cromosomas binarios, donde cada uno de los genes se cambia por su complementario en base a una probabilidad que indicamos de forma manual en la mutación. "
   ]
  },
  {
   "cell_type": "markdown",
   "id": "695ceb9c-986d-4f8d-ba57-4b5b8af6f4a0",
   "metadata": {},
   "source": [
    "#### Función mutShuffleIndexes - Mutación de Mezcla de Índices\n",
    "Esta operación de mutación recorre los genes de un cromosoma y aquellos que superen una probabilidad de mutación determinada, se cambian por otro gen del cromosoma, el cual es seleccionado de forma aleatoria."
   ]
  },
  {
   "cell_type": "markdown",
   "id": "3d9f087a-e722-471c-87ec-7cf1cb5a7c12",
   "metadata": {},
   "source": [
    "#### Función mutInversion - Mutación por Inversión\n",
    "Esta operación de mutación no depende de una probabilidad para que tenga lugar, sino que se ejecuta siempre que utilicemos el operador. \n",
    "\n",
    "En esta operación, se establecen de forma aleatoria dos puntos de selección y se invierte el orden de los genes que se encuentran dentro de estos puntos de selección."
   ]
  },
  {
   "cell_type": "code",
   "execution_count": null,
   "id": "974779ec-3bee-4846-862c-0afdf993a63d",
   "metadata": {},
   "outputs": [],
   "source": []
  },
  {
   "cell_type": "code",
   "execution_count": null,
   "id": "af3a8db7-2daa-44f0-b133-a8e87a58878e",
   "metadata": {},
   "outputs": [],
   "source": []
  },
  {
   "cell_type": "markdown",
   "id": "bc72b73a-302c-4533-9f26-bde192da764f",
   "metadata": {},
   "source": [
    "## Notebook Algoritmos Genéticos III"
   ]
  },
  {
   "cell_type": "markdown",
   "id": "9d707f1f-7c95-4f66-9f84-88a5b676b61f",
   "metadata": {},
   "source": [
    "### Módulo tools"
   ]
  },
  {
   "cell_type": "markdown",
   "id": "9ceb3bab-56bb-4a70-8265-48196a45aa72",
   "metadata": {},
   "source": [
    "#### Objeto Statistics\n",
    "Este objeto permite obtener estadísticas de la población a lo largo de las distintas generaciones. El objeto se aplica a la población a través del método \"compile\".\n"
   ]
  },
  {
   "cell_type": "markdown",
   "id": "fffa79a2-d7d0-4dec-a751-01951f28c882",
   "metadata": {},
   "source": [
    "#### Objeto HallOfFame\n",
    "Este objeto sirve para almacenar los n mejores individuos que se encuentren a lo largo de las diferentes generaciones."
   ]
  },
  {
   "cell_type": "markdown",
   "id": "eca36095-cc59-44ee-b18d-6b5ecc984bc7",
   "metadata": {},
   "source": [
    "#### Objeto LogBook\n",
    "Este objeto nos permite tener un registro de cómo evoluciona nuestro algoritmo genético, pudiendo crear nuevas entradas con \"record\" o selecionando diferentes parámetros ya creados con \"select\"."
   ]
  },
  {
   "cell_type": "markdown",
   "id": "d4046a7b-b05a-4246-a832-a1ed7adfbe5c",
   "metadata": {},
   "source": [
    "### Módulo algorithms\n",
    "Este módulo almacena diferentes algoritmos genéticos predefinidos y los cuales se pueden llamar y utilizar de una forma sencilla."
   ]
  },
  {
   "cell_type": "code",
   "execution_count": 76,
   "id": "1a43fe53-66a3-4a0d-a5b3-4b51891a4946",
   "metadata": {},
   "outputs": [],
   "source": [
    "from deap import algorithms"
   ]
  },
  {
   "cell_type": "markdown",
   "id": "554f283a-bb63-4be6-bedb-bfd8ccfeaeb8",
   "metadata": {},
   "source": [
    "#### Método algorithms.eaSimple - Algoritmo Genético Simple\n",
    "\n",
    "Es el algoritmo genético más sencillo, simple, el cual se encuentra predefinido y almacenado en el módulo \"algorithms\".\n",
    "\n",
    "1. Inicializa una población de generación 0 y la evalúa.\n",
    "\n",
    "2. Pasa a la generación 1, selecciona los individuos de la población 0 y realiza las operaciones de cruce y mutación sobre esta generación.\n",
    "\n",
    "3. Evalúa la población resultante de la generación 1.\n",
    "\n",
    "4. Pasa de generación y repite los mismos pasos siempre que no se alcance el límite de generaciones."
   ]
  },
  {
   "cell_type": "markdown",
   "id": "888aa966-67a4-4091-94e9-0d0ed18ad549",
   "metadata": {},
   "source": [
    "#### Método algorithms.eaMuPlusLambda - Algoritmo MuPlusLambda\n",
    "Este algoritmo genético es un poco distinto del algoritmo genético simple, es decir, es un algoritmo más elitista puesto que favorece a los individuos con mejores valores de ajuste. \n",
    "La siguiente generación, en lugar de obtenerse a partir de los hijos, se obtiene combinando los hijos con los padres, es decir, mediante la \"población extendida\"."
   ]
  },
  {
   "cell_type": "markdown",
   "id": "c33759df-1fd9-4bb4-a5c7-993e5984b009",
   "metadata": {},
   "source": [
    "#### Método algorithms.eaSimpleWithElitism  - Algoritmo Simple con Elitismo\n",
    "Es un algoritmo genético similar al algoritmo genético simple, introduciendo la particularidad de que el individuo que se encuentra en el objeto Hall Of Fame pasa directamente a la siguiente generación, sin estar sujeto a las operaciones de selección, cruce y mutación. \n",
    "\n",
    "Este algoritmo no se encuentra implementado en la librería DEAP, por lo que es necesario implementarlo desde un archivo .py"
   ]
  },
  {
   "cell_type": "code",
   "execution_count": null,
   "id": "ad2b8128-eb5e-48bc-bf6a-9b804e7dec9b",
   "metadata": {},
   "outputs": [],
   "source": []
  },
  {
   "cell_type": "code",
   "execution_count": null,
   "id": "d316d68f-ebc7-4d5d-aee7-cf2512d967f2",
   "metadata": {},
   "outputs": [],
   "source": []
  },
  {
   "cell_type": "code",
   "execution_count": null,
   "id": "45e4e40a-a848-4807-9e3d-13a8edf6fb64",
   "metadata": {},
   "outputs": [],
   "source": []
  },
  {
   "cell_type": "markdown",
   "id": "27a5f521-85de-4219-a44e-fa692fe13059",
   "metadata": {},
   "source": [
    "## Algoritmo genético One Max"
   ]
  },
  {
   "cell_type": "code",
   "execution_count": 88,
   "id": "549bbfb0-a8cc-454e-967b-7203ea8bd975",
   "metadata": {},
   "outputs": [],
   "source": [
    "#Definición inicial de ciertas variables\n",
    "\n",
    "ONE_MAX_LENGTH = 100\n",
    "TAMANO_POBLACION = 250\n",
    "P_CRUCE = 0.9\n",
    "P_MUTACION = 0.1\n",
    "\n",
    "MAX_GENERACIONES = 50\n",
    "\n",
    "RANDOM_SEED = 21\n",
    "random.seed(RANDOM_SEED)"
   ]
  },
  {
   "cell_type": "code",
   "execution_count": 82,
   "id": "ad7fddba-692b-4e92-b724-956d4738e500",
   "metadata": {},
   "outputs": [],
   "source": [
    "# Inicialización de individuos y población\n",
    "\n",
    "toolbox = base.Toolbox()\n",
    "\n",
    "toolbox.register(\"ceroOrUno\", random.randint,0,1)\n",
    "toolbox.register(\"individual\", tools.initRepeat, list, toolbox.ceroOrUno, ONE_MAX_LENGTH)\n",
    "toolbox.register(\"population\", tools.initRepeat, list, toolbox.individual, TAMANO_POBLACION)\n",
    "poblacion=toolbox.population()"
   ]
  },
  {
   "cell_type": "code",
   "execution_count": 83,
   "id": "f28f4084-62b9-45db-91de-e8f62d252316",
   "metadata": {},
   "outputs": [],
   "source": [
    "# Creamos la función de ajuste y la añadimos a la definición de los individuos y la población\n",
    "\n",
    "def oneMaxFitness(individual):\n",
    "    return sum(individual),\n",
    "\n",
    "\n",
    "toolbox = base.Toolbox()\n",
    "creator.create(\"ClaseAjusteMax\", base.Fitness, weights=(1.0,))\n",
    "creator.create(\"ClaseIndividuo\", list, fitness=creator.ClaseAjusteMax)\n",
    "\n",
    "toolbox.register(\"ceroOrUno\", random.randint,0,1)\n",
    "toolbox.register(\"individual\", tools.initRepeat, creator.ClaseIndividuo, toolbox.ceroOrUno, ONE_MAX_LENGTH)\n",
    "\n",
    "toolbox.register(\"evaluate\", oneMaxFitness)"
   ]
  },
  {
   "cell_type": "code",
   "execution_count": 85,
   "id": "1ba2d386-fead-4bce-b396-583761ee2163",
   "metadata": {},
   "outputs": [],
   "source": [
    "# Creamos los operadores de selección, cruce y mutación:\n",
    "    # - Selección: Selección por torneo de tamaño 3\n",
    "    # - Cruce: Cruce de un punto\n",
    "    # - Mutación: Mutación de volteo de bit (flip-bit), donde la probabilidad de \"flip\" es \n",
    "    # inversamente proporcional a la longitud de la cadena \n",
    "\n",
    "toolbox.register(\"select\", tools.selTournament, tournsize=3)\n",
    "toolbox.register(\"mate\", tools.cxOnePoint)\n",
    "toolbox.register(\"mutate\", tools.mutFlipBit, indpb=1.0/ONE_MAX_LENGTH)"
   ]
  },
  {
   "cell_type": "code",
   "execution_count": 86,
   "id": "186f9c01-a536-49ea-82b4-62cbf33b91c3",
   "metadata": {},
   "outputs": [],
   "source": [
    "# Incluimos el objeto Statistics para que nos informe de los valores a lo largo de las generaciones\n",
    "\n",
    "stats = tools.Statistics(lambda ind: ind.fitness.values)\n",
    "stats.register(\"avg\", np.mean)\n",
    "stats.register(\"std\", np.std)\n",
    "stats.register(\"max\", np.max)\n",
    "stats.register(\"min\", np.min)"
   ]
  },
  {
   "cell_type": "code",
   "execution_count": 87,
   "id": "f3665f35-bcd7-4c1a-8d33-1ff9beb0b3c6",
   "metadata": {},
   "outputs": [],
   "source": [
    "#Creamos el objeto HallOfFame para saber cual es el mejor individuo en cada generación\n",
    "\n",
    "hof = tools.HallOfFame(1)"
   ]
  },
  {
   "cell_type": "markdown",
   "id": "a4a2c381-f239-4127-8301-1b1dedbb8acb",
   "metadata": {},
   "source": [
    "### Código completo"
   ]
  },
  {
   "cell_type": "code",
   "execution_count": 89,
   "id": "3b886a0f-679c-40f0-b096-cd1866a6ed1c",
   "metadata": {},
   "outputs": [],
   "source": [
    "ONE_MAX_LENGTH = 100\n",
    "TAMANO_POBLACION = 250\n",
    "P_CRUCE = 0.9\n",
    "P_MUTACION = 0.1\n",
    "\n",
    "MAX_GENERACIONES = 50\n",
    "\n",
    "RANDOM_SEED = 21\n",
    "random.seed(RANDOM_SEED)"
   ]
  },
  {
   "cell_type": "code",
   "execution_count": 98,
   "id": "3ad9fb96-3c04-4e07-b3f2-e784e5633836",
   "metadata": {},
   "outputs": [],
   "source": [
    "def oneMaxFitness(individual):\n",
    "    return sum(individual),"
   ]
  },
  {
   "cell_type": "code",
   "execution_count": 99,
   "id": "9f1bf12b-606f-4025-b8ea-42116a295364",
   "metadata": {},
   "outputs": [],
   "source": [
    "def OneMaxGeneticSimple (one_max_length, tamano_poblacion, p_cruce, p_mutacion, max_generaciones, verbose=True):\n",
    "    toolbox = base.Toolbox()\n",
    "    creator.create(\"ClaseAjusteMax\", base.Fitness, weights=(1.0,))\n",
    "    creator.create(\"ClaseIndividuo\", list, fitness=creator.ClaseAjusteMax)\n",
    "\n",
    "    toolbox.register(\"ceroOrUno\", random.randint,0,1)\n",
    "    toolbox.register(\"individual\", tools.initRepeat, creator.ClaseIndividuo, toolbox.ceroOrUno, one_max_length)\n",
    "    toolbox.register(\"population\", tools.initRepeat, list, toolbox.individual, tamano_poblacion)\n",
    "    poblacion=toolbox.population()\n",
    "\n",
    "\n",
    "    \n",
    "    toolbox.register(\"evaluate\", oneMaxFitness)\n",
    "\n",
    "\n",
    "    toolbox.register(\"select\", tools.selTournament, tournsize=3)\n",
    "    toolbox.register(\"mate\", tools.cxOnePoint)\n",
    "    toolbox.register(\"mutate\", tools.mutFlipBit, indpb=1.0/one_max_length)\n",
    "\n",
    "\n",
    "\n",
    "    stats = tools.Statistics(lambda ind: ind.fitness.values)\n",
    "    stats.register(\"avg\", np.mean)\n",
    "    stats.register(\"std\", np.std)\n",
    "    stats.register(\"max\", np.max)\n",
    "    stats.register(\"min\", np.min)\n",
    "\n",
    "\n",
    "    hof = tools.HallOfFame(1)\n",
    "\n",
    "\n",
    "    poblacion_final, logbook = algorithms.eaSimple(poblacion, toolbox, cxpb=p_cruce, mutpb=p_mutacion, ngen=max_generaciones, stats=stats, halloffame=hof, verbose=verbose)\n",
    "\n",
    "\n",
    "    return poblacion_final, logbook"
   ]
  },
  {
   "cell_type": "code",
   "execution_count": 103,
   "id": "d562e583-9477-48b4-b83d-d2669a15fe38",
   "metadata": {},
   "outputs": [
    {
     "name": "stdout",
     "output_type": "stream",
     "text": [
      "gen\tnevals\tavg   \tstd    \tmax\tmin\n",
      "0  \t250   \t49.756\t5.38298\t63 \t36 \n",
      "1  \t221   \t54.272\t4.46475\t65 \t41 \n",
      "2  \t225   \t57.924\t4.24149\t71 \t49 \n",
      "3  \t235   \t61.472\t4.04292\t70 \t51 \n",
      "4  \t229   \t64.84 \t3.32962\t74 \t56 \n",
      "5  \t222   \t67.64 \t3.30309\t75 \t57 \n",
      "6  \t227   \t70.32 \t2.67013\t80 \t62 \n",
      "7  \t227   \t72.408\t2.91368\t81 \t62 \n",
      "8  \t234   \t74.972\t2.82333\t84 \t68 \n",
      "9  \t223   \t77.416\t2.75008\t85 \t71 \n",
      "10 \t221   \t79.784\t2.42185\t86 \t74 \n",
      "11 \t224   \t81.648\t1.9586 \t86 \t75 \n",
      "12 \t219   \t83.216\t1.7531 \t89 \t77 \n",
      "13 \t221   \t84.78 \t1.61357\t89 \t79 \n",
      "14 \t236   \t86.04 \t1.58442\t91 \t82 \n",
      "15 \t226   \t87.316\t1.53628\t93 \t82 \n",
      "16 \t234   \t88.532\t1.36564\t93 \t85 \n",
      "17 \t232   \t89.628\t1.44555\t94 \t85 \n",
      "18 \t233   \t90.568\t1.34958\t94 \t87 \n",
      "19 \t225   \t91.688\t1.18265\t94 \t86 \n",
      "20 \t230   \t92.492\t1.03244\t94 \t88 \n",
      "21 \t226   \t93.208\t0.851314\t95 \t89 \n",
      "22 \t230   \t93.764\t0.802685\t96 \t90 \n",
      "23 \t222   \t94.284\t0.850496\t96 \t91 \n",
      "24 \t228   \t94.864\t0.741285\t97 \t93 \n",
      "25 \t228   \t95.324\t0.739611\t97 \t91 \n",
      "26 \t225   \t95.776\t0.503809\t97 \t94 \n",
      "27 \t239   \t95.98 \t0.50951 \t97 \t92 \n",
      "28 \t224   \t96.124\t0.603841\t97 \t93 \n",
      "29 \t222   \t96.456\t0.59335 \t98 \t95 \n",
      "30 \t230   \t96.844\t0.712505\t99 \t94 \n",
      "31 \t228   \t97.232\t0.786242\t99 \t94 \n",
      "32 \t228   \t97.724\t0.638611\t99 \t94 \n",
      "33 \t236   \t97.896\t0.702271\t100\t95 \n",
      "34 \t225   \t98.172\t0.578287\t100\t96 \n",
      "35 \t230   \t98.516\t0.682454\t100\t96 \n",
      "36 \t230   \t98.888\t0.776824\t100\t96 \n",
      "37 \t230   \t99.292\t0.752819\t100\t95 \n",
      "38 \t235   \t99.692\t0.636503\t100\t95 \n",
      "39 \t224   \t99.916\t0.406133\t100\t96 \n",
      "40 \t232   \t99.908\t0.373545\t100\t97 \n",
      "41 \t227   \t99.9  \t0.458258\t100\t95 \n",
      "42 \t235   \t99.916\t0.353474\t100\t97 \n",
      "43 \t226   \t99.888\t0.485238\t100\t96 \n",
      "44 \t232   \t99.84 \t0.542586\t100\t96 \n",
      "45 \t226   \t99.92 \t0.457821\t100\t95 \n",
      "46 \t227   \t99.932\t0.30883 \t100\t98 \n",
      "47 \t233   \t99.892\t0.456438\t100\t96 \n",
      "48 \t232   \t99.916\t0.364615\t100\t98 \n",
      "49 \t230   \t99.916\t0.353474\t100\t98 \n",
      "50 \t224   \t99.852\t0.618139\t100\t95 \n"
     ]
    }
   ],
   "source": [
    "poblacion_final, log_book=OneMaxGeneticSimple(ONE_MAX_LENGTH, TAMANO_POBLACION, P_CRUCE, P_MUTACION, MAX_GENERACIONES)"
   ]
  },
  {
   "cell_type": "code",
   "execution_count": 102,
   "id": "3f42f4c1-7684-421c-90d2-dbe2230d307d",
   "metadata": {},
   "outputs": [
    {
     "name": "stdout",
     "output_type": "stream",
     "text": [
      "gen\tnevals\tavg   \tstd    \tmax\tmin\n",
      "0  \t250   \t50.364\t4.37259\t67 \t39 \n",
      "1  \t226   \t53.952\t4.08971\t67 \t44 \n",
      "2  \t230   \t57.424\t4.1275 \t71 \t47 \n",
      "3  \t224   \t60.944\t4.01259\t71 \t50 \n",
      "4  \t230   \t64.156\t3.42048\t72 \t54 \n",
      "5  \t226   \t67.104\t2.64824\t75 \t59 \n",
      "6  \t228   \t68.992\t2.53297\t77 \t63 \n",
      "7  \t223   \t71.14 \t2.23973\t77 \t65 \n",
      "8  \t222   \t72.872\t2.15398\t79 \t68 \n",
      "9  \t231   \t74.544\t2.50441\t82 \t68 \n",
      "10 \t226   \t76.632\t2.48044\t84 \t70 \n",
      "11 \t218   \t78.804\t2.42602\t84 \t72 \n",
      "12 \t230   \t80.664\t2.01968\t86 \t75 \n",
      "13 \t223   \t82.352\t1.66976\t87 \t77 \n",
      "14 \t220   \t83.596\t1.43972\t89 \t78 \n",
      "15 \t222   \t84.736\t1.40936\t89 \t80 \n",
      "16 \t235   \t85.876\t1.33739\t90 \t82 \n",
      "17 \t233   \t86.764\t1.41007\t91 \t83 \n",
      "18 \t228   \t87.876\t1.30714\t92 \t84 \n",
      "19 \t226   \t88.864\t1.28277\t92 \t84 \n",
      "20 \t220   \t89.776\t1.0723 \t93 \t86 \n",
      "21 \t233   \t90.576\t1.20176\t94 \t86 \n",
      "22 \t235   \t91.472\t1.17014\t94 \t88 \n",
      "23 \t210   \t92.26 \t1.10291\t95 \t88 \n",
      "24 \t228   \t92.96 \t1.01114\t95 \t89 \n",
      "25 \t219   \t93.68 \t0.947418\t97 \t91 \n",
      "26 \t230   \t94.312\t1.03473 \t97 \t90 \n",
      "27 \t240   \t94.964\t0.989295\t98 \t91 \n",
      "28 \t235   \t95.624\t1.04815 \t98 \t92 \n",
      "29 \t238   \t96.424\t0.92316 \t98 \t92 \n",
      "30 \t223   \t97.064\t0.771948\t98 \t94 \n",
      "31 \t234   \t97.544\t0.606683\t98 \t95 \n",
      "32 \t219   \t97.86 \t0.42    \t99 \t95 \n",
      "33 \t233   \t97.892\t0.514136\t99 \t95 \n",
      "34 \t228   \t97.928\t0.531804\t99 \t95 \n",
      "35 \t231   \t98.02 \t0.602993\t99 \t95 \n",
      "36 \t226   \t98.244\t0.639112\t99 \t96 \n",
      "37 \t216   \t98.616\t0.610364\t99 \t95 \n",
      "38 \t225   \t98.88 \t0.523068\t99 \t94 \n",
      "39 \t223   \t98.904\t0.367129\t99 \t96 \n",
      "40 \t220   \t98.908\t0.362679\t99 \t96 \n",
      "41 \t216   \t98.916\t0.396162\t100\t96 \n",
      "42 \t224   \t98.88 \t0.507543\t100\t96 \n",
      "43 \t235   \t98.936\t0.477393\t100\t96 \n",
      "44 \t241   \t99.008\t0.572657\t100\t95 \n",
      "45 \t228   \t99.212\t0.618915\t100\t95 \n",
      "46 \t228   \t99.504\t0.688465\t100\t96 \n",
      "47 \t230   \t99.88 \t0.421426\t100\t97 \n",
      "48 \t238   \t99.924\t0.462843\t100\t95 \n",
      "49 \t222   \t99.912\t0.3902  \t100\t97 \n",
      "50 \t224   \t99.868\t0.51631 \t100\t97 \n"
     ]
    }
   ],
   "source": [
    "ONE_MAX_LENGTH = 100 #longitud de la cadena\n",
    "\n",
    "TAMANO_POBLACION = 250\n",
    "P_CRUCE = 0.9\n",
    "P_MUTACION = 0.1\n",
    "\n",
    "MAX_GENERACIONES = 50\n",
    "\n",
    "RANDOM_SEED = 21\n",
    "random.seed(RANDOM_SEED)\n",
    "\n",
    "\n",
    "def oneMaxFitness(individual):\n",
    "    return sum(individual),   #Recordemos que siempre devuelve una tupla\n",
    "\n",
    "\n",
    "def OneMaxGeneticSimple(one_max_length,tamano_poblacion,p_cruce,p_mutacion,max_generaciones, verbose=True):\n",
    "    from deap import creator, base, tools\n",
    "    import numpy as np\n",
    "    \n",
    "    toolbox=base.Toolbox()\n",
    "    creator.create(\"ClaseAjusteMax\", base.Fitness, weights=(1.0,))\n",
    "    creator.create(\"ClaseIndividuo\",list, fitness=creator.ClaseAjusteMax)\n",
    "\n",
    "    #modificamos la definición de invididuo para incluir la función de ajuste:\n",
    "    toolbox.register(\"ceroOrUno\",random.randint,0,1)\n",
    "    toolbox.register(\"individual\",tools.initRepeat,creator.ClaseIndividuo,toolbox.ceroOrUno,one_max_length) \n",
    "    toolbox.register(\"population\",tools.initRepeat,list,toolbox.individual,tamano_poblacion)\n",
    "    poblacion=toolbox.population()\n",
    "\n",
    "    toolbox.register(\"evaluate\",oneMaxFitness)\n",
    "\n",
    "    toolbox.register(\"select\", tools.selTournament, tournsize=3)\n",
    "    toolbox.register(\"mate\", tools.cxOnePoint)\n",
    "    toolbox.register(\"mutate\", tools.mutFlipBit, indpb=1.0/one_max_length)\n",
    "\n",
    "    stats=tools.Statistics(lambda ind: ind.fitness.values)\n",
    "    stats.register(\"avg\",np.mean)\n",
    "    stats.register(\"std\",np.std)\n",
    "    stats.register(\"max\",np.max)\n",
    "    stats.register(\"min\",np.min)\n",
    "\n",
    "    hof=tools.HallOfFame(1)\n",
    "\n",
    "    from deap import algorithms\n",
    "    poblacion_final, logbook= algorithms.eaSimple(poblacion, toolbox,\n",
    "                                                 cxpb=p_cruce, mutpb=p_mutacion,\n",
    "                                                 ngen=max_generaciones,\n",
    "                                                 stats=stats,halloffame=hof,\n",
    "                                                 verbose=verbose)\n",
    "    return poblacion_final, logbook\n",
    "\n",
    "poblacion_final,log_book=OneMaxGeneticSimple(ONE_MAX_LENGTH, TAMANO_POBLACION, P_CRUCE, \n",
    "                                             P_MUTACION, MAX_GENERACIONES)"
   ]
  },
  {
   "cell_type": "code",
   "execution_count": 97,
   "id": "2caee56e-b36d-4a2f-a516-66143fd3b1f5",
   "metadata": {},
   "outputs": [],
   "source": [
    "def plot_evolucion(log, titulo=\"Evolución de Descriptores vs Generaciones\"):\n",
    "    import matplotlib.pyplot as plt\n",
    "    import numpy as np\n",
    "    gen=log.select(\"gen\")\n",
    "    fit_mins=log.select(\"min\")\n",
    "    fit_maxs= log.select(\"max\")\n",
    "    fit_means=log.select(\"avg\")\n",
    "    \n",
    "    fig,ax = plt.subplots()\n",
    "    \n",
    "    ax.plot(gen,fit_mins,color=\"green\")\n",
    "    ax.plot(gen,fit_maxs,color=\"red\")\n",
    "    ax.plot(gen,fit_means,linestyle=\"--\", color=\"blue\")\n",
    "    fit_mins=np.array(fit_mins)\n",
    "    fit_maxs=np.array(fit_maxs)   \n",
    "    ax.fill_between(gen,fit_mins,fit_maxs,where=(fit_maxs>=fit_mins), facecolor='y', alpha=0.2)\n",
    "    \n",
    "    ax.set_xlabel(\"Generación\")\n",
    "    ax.set_ylabel(\"Ajuste (fitness)\")\n",
    "    ax.set_ylim([0,110])\n",
    "    ax.legend([\"Min\",\"Max\",\"Media\"])\n",
    "    ax.set_title(titulo)\n",
    "    plt.grid(True)\n",
    "        "
   ]
  },
  {
   "cell_type": "code",
   "execution_count": 104,
   "id": "907ef296-a730-42b2-a34b-d8667cc416b9",
   "metadata": {},
   "outputs": [
    {
     "data": {
      "image/png": "[encoded data removed]",
      "text/plain": [
       "<Figure size 640x480 with 1 Axes>"
      ]
     },
     "metadata": {},
     "output_type": "display_data"
    }
   ],
   "source": [
    "plot_evolucion(log_book)"
   ]
  },
  {
   "cell_type": "code",
   "execution_count": null,
   "id": "b764cfb0-f635-4f5c-b7a7-537b96b77285",
   "metadata": {},
   "outputs": [],
   "source": []
  }
 ],
 "metadata": {
  "kernelspec": {
   "display_name": "Python 3 (ipykernel)",
   "language": "python",
   "name": "python3"
  },
  "language_info": {
   "codemirror_mode": {
    "name": "ipython",
    "version": 3
   },
   "file_extension": ".py",
   "mimetype": "text/x-python",
   "name": "python",
   "nbconvert_exporter": "python",
   "pygments_lexer": "ipython3",
   "version": "3.11.11"
  }
 },
 "nbformat": 4,
 "nbformat_minor": 5
}
