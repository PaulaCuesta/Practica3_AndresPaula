{
 "cells": [
  {
   "cell_type": "markdown",
   "id": "4329069f-cd38-4f40-a8ae-c2e02f04cae5",
   "metadata": {},
   "source": [
    "# Práctica 3 -- Algoritmos genéticos"
   ]
  },
  {
   "cell_type": "markdown",
   "id": "a75aa1b8-f081-42e8-b919-d96ffddaa9f3",
   "metadata": {},
   "source": [
    "## Notebook Algoritmos Genéticos II"
   ]
  },
  {
   "cell_type": "markdown",
   "id": "f34d156d-763a-4d89-ac1e-6aae64e785f7",
   "metadata": {},
   "source": [
    "### Módulo Creator\n",
    "\n",
    "Crea una clase que extiende de otras, la cual puede tener una serie de atributos."
   ]
  },
  {
   "cell_type": "code",
   "execution_count": 1,
   "id": "c19735f5-572e-4d7f-af54-a7def25e7e8d",
   "metadata": {},
   "outputs": [],
   "source": [
    "from deap import creator"
   ]
  },
  {
   "cell_type": "code",
   "execution_count": null,
   "id": "253b0f73-9564-4a13-b001-29738b7ea441",
   "metadata": {},
   "outputs": [],
   "source": []
  },
  {
   "cell_type": "markdown",
   "id": "6bd52133-990c-4bca-960c-e8c43889a643",
   "metadata": {},
   "source": [
    "### Módulo Base"
   ]
  },
  {
   "cell_type": "code",
   "execution_count": 3,
   "id": "46efdc79-bc65-4ad2-b454-3b3d4cf0f12e",
   "metadata": {},
   "outputs": [],
   "source": [
    "from deap import base"
   ]
  },
  {
   "cell_type": "markdown",
   "id": "8ba2673d-ed37-4cff-86ed-8349e70702f7",
   "metadata": {},
   "source": [
    "#### Clase Fitness\n",
    "Es la función de ajuste, la cual nos permite seleccionar si queremos llevar a cabo un problema de maximización o minimización."
   ]
  },
  {
   "cell_type": "markdown",
   "id": "56b65e7a-b0b3-405d-a80b-13d92df1b7ad",
   "metadata": {},
   "source": [
    "#### Clase Toolbox\n",
    "Nos permite la creacción y utilización de diferentes operaciones predefinidas y sin definir."
   ]
  },
  {
   "cell_type": "markdown",
   "id": "481f16be-9740-49a3-87a8-9a414f4b83a6",
   "metadata": {},
   "source": [
    "##### Método register\n",
    "Nos permite modificar operaciones que ya han sido definidas previamente."
   ]
  },
  {
   "cell_type": "markdown",
   "id": "137aad98-7493-4c95-a72b-3a692d33388e",
   "metadata": {},
   "source": [
    "### Módulo tools\n",
    "\n",
    "Contiene un montón de operaciones genéticas tales como selección, cruce o mutación; así como algunas funcionalidades de inicialización de las poblaciones."
   ]
  },
  {
   "cell_type": "code",
   "execution_count": 11,
   "id": "52fb6508-e841-458a-910d-3377b64e40ec",
   "metadata": {},
   "outputs": [],
   "source": [
    "from deap import tools"
   ]
  },
  {
   "cell_type": "markdown",
   "id": "fd062aad-a8fc-48b2-a0ad-ec8de311430d",
   "metadata": {},
   "source": [
    "#### Función initRepeat\n",
    "Almacena en un determinado tipo de estructura el resultado de aplicar una función un determinado número de veces.\n",
    "\n",
    "Sirve para crear individuos compuestos por una cadena binaria."
   ]
  },
  {
   "cell_type": "code",
   "execution_count": 10,
   "id": "149fa95a-5cb5-41bd-97dd-03fe2e5352af",
   "metadata": {},
   "outputs": [],
   "source": [
    "import random"
   ]
  },
  {
   "cell_type": "markdown",
   "id": "bc2312aa-1a01-4f56-84fe-7826a5a42545",
   "metadata": {},
   "source": [
    "#### Función initIterate\n",
    "Almacena en un determinado tipo de estructura el resultado de aplicar una función un determinado número de veces. \n",
    "\n",
    "Sirve para crear individuos compuestos por números enteros."
   ]
  },
  {
   "cell_type": "code",
   "execution_count": 24,
   "id": "990c81ac-cd76-40e8-85ee-298ae72ceda2",
   "metadata": {},
   "outputs": [],
   "source": [
    "import numpy as np"
   ]
  },
  {
   "cell_type": "markdown",
   "id": "abe2277d-6a90-430d-a9b8-68bcf44ad759",
   "metadata": {},
   "source": [
    "#### Función selBest  -  Selección de los k mejores\n",
    "\n",
    "Selecciona los k - individuos de la población con mayor valor de ajuste."
   ]
  },
  {
   "cell_type": "markdown",
   "id": "8d8cf75f-6399-4818-b8ce-089d185863ec",
   "metadata": {},
   "source": [
    "#### Función selTournament - Selección por torneo\n",
    "Selecciona los k-individuos que indiquemos y que se eligen por ser los ganadores de un torneo, el cual depende del valor de ajuste de los participantes.\n"
   ]
  },
  {
   "cell_type": "markdown",
   "id": "509bc70c-9ca7-4eb5-8119-4f90ce8da15b",
   "metadata": {},
   "source": [
    "#### Función selRoulette - Selección por ruleta\n",
    "Selecciona un número predeterminado de k - individuos por ruleta. Sin embargo, aquellos individuos con mayor valor de ajuste tienen mayor probabilidad de ser seleccionados. La ruleta se repite hasta obtener el número de individuos deseado."
   ]
  },
  {
   "cell_type": "markdown",
   "id": "179df762-720b-413c-b488-0096febd4886",
   "metadata": {},
   "source": [
    "#### Función selStochasticUniversalSampling - Selección por Muestreo Universal Estocástico\n",
    "Es una variación del muestreo por ruleta. \n",
    "\n",
    "Selecciona k - elementos pero en una sola vuelta, ya que la ruleta tiene varios puntos de selección de los individuos de la población."
   ]
  },
  {
   "cell_type": "markdown",
   "id": "85489d93-707d-4f3c-a75c-039b2303c5e1",
   "metadata": {},
   "source": [
    "#### Función cxOnePoint - Cruce de un Punto\n",
    "Realizan una operación de cruce entre individuos, seleccionando un punto de cruce aleatorio e intercambiando la información genética del cromosoma que se encuentra a la derecha de dicho punto de cruce entre los individuos."
   ]
  },
  {
   "cell_type": "markdown",
   "id": "43cfb65d-fb63-4c72-bcd4-3b8f2e2d5c87",
   "metadata": {},
   "source": [
    "#### Función cxTwoPoint - Cruce de dos Puntos\n",
    "Realiza una operación de cruce entre dos individuos, seleccionando dos puntos de cruce aleatorios en los cromosomas e intercambiando entre ambos la información que se encuentra localizada entre los mismos."
   ]
  },
  {
   "cell_type": "markdown",
   "id": "151d0a09-b734-433c-9807-67766f581b4f",
   "metadata": {},
   "source": [
    "#### Función cxUniform - Cruce Uniforme\n",
    "Realiza una operación de cruce entre dos individuos, seleccionando de forma aleatoria en función de la probabilidad de uno de los progenitores de influir en la descendencia, por lo que se genera de forma aleatoria los cruces entre los cromosomas."
   ]
  },
  {
   "cell_type": "markdown",
   "id": "45287242-4c2a-4eb9-a806-c43e66efaf37",
   "metadata": {},
   "source": [
    "#### Función cxOrdered - Cruces en Representación de Orden\n",
    "Realiza una operación de cruce, seleccionando dos puntos de corte en los individuos, los genes que se encuentran entre dichos puntos de corte pasan a la descendencia, y el resto del cromosoma se rellena con los genes del cromosoma del otro individuo que todavía no se encuentren en la descendencia de nuestro individuo de interés."
   ]
  },
  {
   "cell_type": "markdown",
   "id": "da60194c-b980-4650-95d3-051b6d90e124",
   "metadata": {},
   "source": [
    "#### Función mutFlipBit - Mutación de Volteo de Bit (Flip Bit)\n",
    "Esta operación de mutación se utiliza con cromosomas binarios, donde cada uno de los genes se cambia por su complementario en base a una probabilidad que indicamos de forma manual en la mutación. "
   ]
  },
  {
   "cell_type": "markdown",
   "id": "695ceb9c-986d-4f8d-ba57-4b5b8af6f4a0",
   "metadata": {},
   "source": [
    "#### Función mutShuffleIndexes - Mutación de Mezcla de Índices\n",
    "Esta operación de mutación recorre los genes de un cromosoma y aquellos que superen una probabilidad de mutación determinada, se cambian por otro gen del cromosoma, el cual es seleccionado de forma aleatoria."
   ]
  },
  {
   "cell_type": "markdown",
   "id": "3d9f087a-e722-471c-87ec-7cf1cb5a7c12",
   "metadata": {},
   "source": [
    "#### Función mutInversion - Mutación por Inversión\n",
    "Esta operación de mutación no depende de una probabilidad para que tenga lugar, sino que se ejecuta siempre que utilicemos el operador. \n",
    "\n",
    "En esta operación, se establecen de forma aleatoria dos puntos de selección y se invierte el orden de los genes que se encuentran dentro de estos puntos de selección."
   ]
  },
  {
   "cell_type": "code",
   "execution_count": null,
   "id": "974779ec-3bee-4846-862c-0afdf993a63d",
   "metadata": {},
   "outputs": [],
   "source": []
  },
  {
   "cell_type": "code",
   "execution_count": null,
   "id": "af3a8db7-2daa-44f0-b133-a8e87a58878e",
   "metadata": {},
   "outputs": [],
   "source": []
  },
  {
   "cell_type": "markdown",
   "id": "bc72b73a-302c-4533-9f26-bde192da764f",
   "metadata": {},
   "source": [
    "## Notebook Algoritmos Genéticos III"
   ]
  },
  {
   "cell_type": "markdown",
   "id": "9d707f1f-7c95-4f66-9f84-88a5b676b61f",
   "metadata": {},
   "source": [
    "### Módulo tools"
   ]
  },
  {
   "cell_type": "markdown",
   "id": "9ceb3bab-56bb-4a70-8265-48196a45aa72",
   "metadata": {},
   "source": [
    "#### Objeto Statistics\n",
    "Este objeto permite obtener estadísticas de la población a lo largo de las distintas generaciones. El objeto se aplica a la población a través del método \"compile\".\n"
   ]
  },
  {
   "cell_type": "markdown",
   "id": "fffa79a2-d7d0-4dec-a751-01951f28c882",
   "metadata": {},
   "source": [
    "#### Objeto HallOfFame\n",
    "Este objeto sirve para almacenar los n mejores individuos que se encuentren a lo largo de las diferentes generaciones."
   ]
  },
  {
   "cell_type": "markdown",
   "id": "eca36095-cc59-44ee-b18d-6b5ecc984bc7",
   "metadata": {},
   "source": [
    "#### Objeto LogBook\n",
    "Este objeto nos permite tener un registro de cómo evoluciona nuestro algoritmo genético, pudiendo crear nuevas entradas con \"record\" o selecionando diferentes parámetros ya creados con \"select\"."
   ]
  },
  {
   "cell_type": "markdown",
   "id": "d4046a7b-b05a-4246-a832-a1ed7adfbe5c",
   "metadata": {},
   "source": [
    "### Módulo algorithms\n",
    "Este módulo almacena diferentes algoritmos genéticos predefinidos y los cuales se pueden llamar y utilizar de una forma sencilla."
   ]
  },
  {
   "cell_type": "code",
   "execution_count": 76,
   "id": "1a43fe53-66a3-4a0d-a5b3-4b51891a4946",
   "metadata": {},
   "outputs": [],
   "source": [
    "from deap import algorithms"
   ]
  },
  {
   "cell_type": "markdown",
   "id": "554f283a-bb63-4be6-bedb-bfd8ccfeaeb8",
   "metadata": {},
   "source": [
    "#### Método algorithms.eaSimple - Algoritmo Genético Simple\n",
    "\n",
    "Es el algoritmo genético más sencillo, simple, el cual se encuentra predefinido y almacenado en el módulo \"algorithms\".\n",
    "\n",
    "1. Inicializa una población de generación 0 y la evalúa.\n",
    "\n",
    "2. Pasa a la generación 1, selecciona los individuos de la población 0 y realiza las operaciones de cruce y mutación sobre esta generación.\n",
    "\n",
    "3. Evalúa la población resultante de la generación 1.\n",
    "\n",
    "4. Pasa de generación y repite los mismos pasos siempre que no se alcance el límite de generaciones."
   ]
  },
  {
   "cell_type": "markdown",
   "id": "888aa966-67a4-4091-94e9-0d0ed18ad549",
   "metadata": {},
   "source": [
    "#### Método algorithms.eaMuPlusLambda - Algoritmo MuPlusLambda\n",
    "Este algoritmo genético es un poco distinto del algoritmo genético simple, es decir, es un algoritmo más elitista puesto que favorece a los individuos con mejores valores de ajuste. \n",
    "La siguiente generación, en lugar de obtenerse a partir de los hijos, se obtiene combinando los hijos con los padres, es decir, mediante la \"población extendida\"."
   ]
  },
  {
   "cell_type": "markdown",
   "id": "c33759df-1fd9-4bb4-a5c7-993e5984b009",
   "metadata": {},
   "source": [
    "#### Método algorithms.eaSimpleWithElitism  - Algoritmo Simple con Elitismo\n",
    "Es un algoritmo genético similar al algoritmo genético simple, introduciendo la particularidad de que el individuo que se encuentra en el objeto Hall Of Fame pasa directamente a la siguiente generación, sin estar sujeto a las operaciones de selección, cruce y mutación. \n",
    "\n",
    "Este algoritmo no se encuentra implementado en la librería DEAP, por lo que es necesario implementarlo desde un archivo .py"
   ]
  },
  {
   "cell_type": "code",
   "execution_count": null,
   "id": "ad2b8128-eb5e-48bc-bf6a-9b804e7dec9b",
   "metadata": {},
   "outputs": [],
   "source": []
  },
  {
   "cell_type": "code",
   "execution_count": null,
   "id": "d316d68f-ebc7-4d5d-aee7-cf2512d967f2",
   "metadata": {},
   "outputs": [],
   "source": []
  },
  {
   "cell_type": "code",
   "execution_count": null,
   "id": "45e4e40a-a848-4807-9e3d-13a8edf6fb64",
   "metadata": {},
   "outputs": [],
   "source": []
  },
  {
   "cell_type": "markdown",
   "id": "27a5f521-85de-4219-a44e-fa692fe13059",
   "metadata": {},
   "source": [
    "## Algoritmo genético One Max"
   ]
  },
  {
   "cell_type": "code",
   "execution_count": 81,
   "id": "549bbfb0-a8cc-454e-967b-7203ea8bd975",
   "metadata": {},
   "outputs": [],
   "source": [
    "#Definición inicial de ciertas variables\n",
    "\n",
    "ONE_MAX_LENGTH = 100\n",
    "TAMANO_POBLACION = 250\n",
    "P_CRUCE = 0.9\n",
    "P_MUTACION = 0.1\n",
    "\n",
    "MAX_GENERACIONES = 50"
   ]
  },
  {
   "cell_type": "code",
   "execution_count": 82,
   "id": "ad7fddba-692b-4e92-b724-956d4738e500",
   "metadata": {},
   "outputs": [],
   "source": [
    "# Inicialización de individuos y población\n",
    "\n",
    "toolbox = base.Toolbox()\n",
    "\n",
    "toolbox.register(\"ceroOrUno\", random.randint,0,1)\n",
    "toolbox.register(\"individual\", tools.initRepeat, list, toolbox.ceroOrUno, ONE_MAX_LENGTH)\n",
    "toolbox.register(\"population\", tools.initRepeat, list, toolbox.individual, TAMANO_POBLACION)\n",
    "poblacion=toolbox.population()"
   ]
  },
  {
   "cell_type": "code",
   "execution_count": null,
   "id": "f28f4084-62b9-45db-91de-e8f62d252316",
   "metadata": {},
   "outputs": [],
   "source": [
    "# Creamos la función de ajuste y la añadimos a la definición de los individuos y la población"
   ]
  }
 ],
 "metadata": {
  "kernelspec": {
   "display_name": "Python 3 (ipykernel)",
   "language": "python",
   "name": "python3"
  },
  "language_info": {
   "codemirror_mode": {
    "name": "ipython",
    "version": 3
   },
   "file_extension": ".py",
   "mimetype": "text/x-python",
   "name": "python",
   "nbconvert_exporter": "python",
   "pygments_lexer": "ipython3",
   "version": "3.11.11"
  }
 },
 "nbformat": 4,
 "nbformat_minor": 5
}
