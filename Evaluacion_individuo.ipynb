{
 "cells": [
  {
   "cell_type": "code",
   "execution_count": null,
   "id": "1a96e44b-ddbf-43dc-a115-86993e2c343e",
   "metadata": {},
   "outputs": [],
   "source": []
  }
 ],
 "metadata": {
  "kernelspec": {
   "display_name": "",
   "name": ""
  },
  "language_info": {
   "name": ""
  }
 },
 "nbformat": 4,
 "nbformat_minor": 5
}
