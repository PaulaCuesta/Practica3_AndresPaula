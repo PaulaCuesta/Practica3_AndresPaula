{
 "cells": [
  {
   "cell_type": "code",
   "execution_count": 3,
   "id": "01e5557c-3ad6-4502-b871-dc8cce5924a1",
   "metadata": {},
   "outputs": [],
   "source": [
    "import pandas as pd"
   ]
  },
  {
   "cell_type": "code",
   "execution_count": 8,
   "id": "3f169be2-3c91-4bd0-9420-0986cb24958a",
   "metadata": {},
   "outputs": [],
   "source": [
    "from turnosenfermeria import TurnosEnfermeria"
   ]
  },
  {
   "cell_type": "code",
   "execution_count": 9,
   "id": "c1683291-a14e-4bba-9233-6fdda81ad662",
   "metadata": {},
   "outputs": [],
   "source": [
    "tamano_individuo = 21"
   ]
  },
  {
   "cell_type": "code",
   "execution_count": 5,
   "id": "8f9696d5-d628-40d7-a622-b77512140ad7",
   "metadata": {},
   "outputs": [
    {
     "name": "stdout",
     "output_type": "stream",
     "text": [
      "   Nombre  Pref_M  Pref_T  Pref_N\n",
      "0   Enf_A       1       1       0\n",
      "1   Enf_B       1       0       1\n",
      "2   Enf_C       1       1       1\n",
      "3   Enf_D       0       1       0\n",
      "4   Enf_E       0       0       1\n",
      "5   Enf_F       0       1       1\n",
      "6   Enf_G       1       1       0\n",
      "7   Enf_H       0       0       1\n",
      "8   Enf_I       1       1       1\n",
      "9   Enf_J       1       1       0\n",
      "10  Enf_K       1       1       1\n",
      "11  Enf_L       1       1       0\n",
      "12  Enf_M       1       0       1\n"
     ]
    }
   ],
   "source": [
    "preferencias = pd.read_csv(\"./data/datos_enfermeria.txt\", sep=' ')\n",
    "print (preferencias)"
   ]
  },
  {
   "cell_type": "code",
   "execution_count": 6,
   "id": "ec0e31dc-4015-46a0-a33a-77d4e79f1ca2",
   "metadata": {},
   "outputs": [
    {
     "name": "stdout",
     "output_type": "stream",
     "text": [
      "0     Enf_A\n",
      "1     Enf_B\n",
      "2     Enf_C\n",
      "3     Enf_D\n",
      "4     Enf_E\n",
      "5     Enf_F\n",
      "6     Enf_G\n",
      "7     Enf_H\n",
      "8     Enf_I\n",
      "9     Enf_J\n",
      "10    Enf_K\n",
      "11    Enf_L\n",
      "12    Enf_M\n",
      "Name: Nombre, dtype: object\n"
     ]
    }
   ],
   "source": [
    "enfermeras = preferencias[\"Nombre\"]\n",
    "print (enfermeras)"
   ]
  },
  {
   "cell_type": "code",
   "execution_count": 7,
   "id": "49f5d532-a1c3-41de-8021-63b572a62192",
   "metadata": {},
   "outputs": [],
   "source": [
    "turnos = TurnosEnfermeria (enfermeras, preferencias)"
   ]
  },
  {
   "cell_type": "code",
   "execution_count": 14,
   "id": "1a96e44b-ddbf-43dc-a115-86993e2c343e",
   "metadata": {},
   "outputs": [],
   "source": [
    "def coste_individuo (individuo, poblacion):\n",
    "    \n",
    "    if len(individuo) != tamano_individuo:\n",
    "         raise ValueError(\"el tamaño del individuo debe ser igual a: \", tamano_individuo)\n",
    "\n",
    "    infraccionesTurnosConsecutivos = InfraccionesTurnosConsecutivos(individuo)\n",
    "    infraccionesTurnosMismoDia = InfraccionesTurnosMismoDia(individuo)\n",
    "    infraccionesTurnosPorSemana = InfraccionesTurnosPorSemana(individuo)[1]\n",
    "    infraccionesEnfermerPorTurno = InfraccionesEnfermerPorTurno(individuo)[1]\n",
    "    infraccionesPreferenciaTurnos = InfraccionesPreferenciaTurnos(individuo)[1]\n",
    "    \n",
    "    \n",
    "    infraccionesRestriccionesHard = infraccionesTurnosConsecutivos + infraccionesTurnosMismoDia + infraccionesEnfermerPorTurno + infraccionesTurnosPorSemana\n",
    "    infraccionesRestriccionesSoft = infraccionesPreferenciaTurnos\n",
    "\n",
    "    return turnos.factorPenalizacionRestriccionDura * infraccionesRestriccionesHard + infraccionesRestriccionesSoft,\n",
    "\n",
    "    "
   ]
  },
  {
   "cell_type": "code",
   "execution_count": 46,
   "id": "b9b35f3d-b337-463e-924f-927b13094a47",
   "metadata": {},
   "outputs": [],
   "source": [
    "def InfraccionesTurnosConsecutivos (individuo):\n",
    "    infracciones = 0\n",
    "\n",
    "    for turno1, turno2 in zip (individuo, individuo[1:]):\n",
    "        if turno1 == 1 and turno2 == 1:\n",
    "            infracciones +=1\n",
    "\n",
    "    return infracciones\n",
    "\n",
    "    \n",
    "    "
   ]
  },
  {
   "cell_type": "code",
   "execution_count": 44,
   "id": "aa4a05e5-9c05-4701-94e2-0c4b23085c1e",
   "metadata": {},
   "outputs": [],
   "source": [
    "def InfraccionesTurnosMismoDia (individuo):\n",
    "    infracciones = 0\n",
    "    indiceTurno = 0\n",
    "\n",
    "    for i in range((7 * turnos.semanas)):\n",
    "        turno=individuo[indiceTurno:indiceTurno+turnos.turnosPorDia]\n",
    "        print (turno)\n",
    "\n",
    "        if turno[0]==1 & turno[2]==1:\n",
    "            infracciones +=1\n",
    "        indiceTurno+=turnos.turnosPorDia\n",
    "\n",
    "    return infracciones\n",
    "        \n",
    "        "
   ]
  },
  {
   "cell_type": "code",
   "execution_count": 57,
   "id": "f7eded42-6845-460d-9800-e9286f8f2737",
   "metadata": {},
   "outputs": [],
   "source": [
    "def InfraccionesTurnosPorSemana (individuo):\n",
    "    infracciones = 0\n",
    "    lista_TurnosSemanales = []\n",
    "\n",
    "    for i in range(0, turnos.semanas * turnos.turnosPorSemana, turnos.turnosPorSemana):\n",
    "        turnosSemanales = sum(individuo[i:i + turnos.turnosPorSemana])\n",
    "        lista_TurnosSemanales.append(turnosSemanales)\n",
    "        if turnosSemanales > turnos.maxTurnosSemana:\n",
    "            infracciones += turnosSemanales - turnos.maxTurnosSemana\n",
    "\n",
    "    return lista_TurnosSemanales, infracciones"
   ]
  },
  {
   "cell_type": "code",
   "execution_count": 61,
   "id": "5aad8e47-d290-49e0-a0fa-eda25aefb0d6",
   "metadata": {},
   "outputs": [],
   "source": [
    "def InfraccionesEnfermerPorTurno(poblacion):\n",
    "    listaTotalPorTurno = [sum(turno) for turno in zip(*poblacion)]\n",
    "\n",
    "    infracciones = 0\n",
    "        \n",
    "    for indiceTurno, numDeEnfermer in enumerate(listaTotalPorTurno):\n",
    "        indiceTurnoDiario = indiceTurno % turnos.turnosPorDia  # -> 0, 1, o 2 para los tres turnos al dia\n",
    "        if (numDeEnfermer > turnos.maxTurnosDia[indiceTurnoDiario]):\n",
    "            infracciones += numDeEnfermer - turnos.maxTurnosDia[indiceTurnoDiario]\n",
    "        elif (numDeEnfermer < self.minTurnosDia[indiceTurnoDiario]):\n",
    "            infracciones += self.minTurnosDia[indiceTurnoDiario] - numDeEnfermer\n",
    "\n",
    "    return listaTotalPorTurno, infracciones\n",
    "    "
   ]
  },
  {
   "cell_type": "code",
   "execution_count": null,
   "id": "b15760ef-d173-423b-b056-ea64f03a93a8",
   "metadata": {},
   "outputs": [],
   "source": [
    "def countInfraccionesEnfermerPorTurno(self, turnosEnfermDict):\n",
    "        \"\"\"\n",
    "        Cuenta el numero de infracciones debidas al numero de enfermer@s por turno\n",
    "        :param turnosEnfermDict: diccionario con el turno específico de un enfermer@\n",
    "        :return: numero de infracciones encontradas\n",
    "        \"\"\"\n",
    "        # sumamos los turnos de todas las enfermeras:\n",
    "        listaTotalPorTurno = [sum(turno) for turno in zip(*turnosEnfermDict.values())]\n",
    "\n",
    "        infracciones = 0\n",
    "        # iteramos en los turnos y obtenemos las infracciones:\n",
    "        for indiceTurno, numDeEnfermer in enumerate(listaTotalPorTurno):\n",
    "            indiceTurnoDiario = indiceTurno % self.turnosPorDia  # -> 0, 1, o 2 para los tres turnos al dia\n",
    "            if (numDeEnfermer > self.maxTurnosDia[indiceTurnoDiario]):\n",
    "                infracciones += numDeEnfermer - self.maxTurnosDia[indiceTurnoDiario]\n",
    "            elif (numDeEnfermer < self.minTurnosDia[indiceTurnoDiario]):\n",
    "                infracciones += self.minTurnosDia[indiceTurnoDiario] - numDeEnfermer\n",
    "\n",
    "        return listaTotalPorTurno, infracciones"
   ]
  }
 ],
 "metadata": {
  "kernelspec": {
   "display_name": "Python 3 (ipykernel)",
   "language": "python",
   "name": "python3"
  },
  "language_info": {
   "codemirror_mode": {
    "name": "ipython",
    "version": 3
   },
   "file_extension": ".py",
   "mimetype": "text/x-python",
   "name": "python",
   "nbconvert_exporter": "python",
   "pygments_lexer": "ipython3",
   "version": "3.11.11"
  }
 },
 "nbformat": 4,
 "nbformat_minor": 5
}
